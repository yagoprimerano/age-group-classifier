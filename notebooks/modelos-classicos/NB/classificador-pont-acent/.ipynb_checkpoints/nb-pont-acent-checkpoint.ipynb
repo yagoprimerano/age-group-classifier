{
 "cells": [
  {
   "cell_type": "markdown",
   "id": "ce62debc-bf37-4d18-85a9-dbd1069ebb20",
   "metadata": {
    "tags": []
   },
   "source": [
    "# Importação das bibliotecas necessárias"
   ]
  },
  {
   "cell_type": "code",
   "execution_count": 1,
   "id": "22df3ca1-3dbe-4119-a257-9e8412799283",
   "metadata": {
    "tags": []
   },
   "outputs": [],
   "source": [
    "import pandas as pd \n",
    "\n",
    "from sklearn.feature_extraction.text import CountVectorizer\n",
    "from sklearn.preprocessing import MaxAbsScaler\n",
    "#from sklearn.pipeline import Pipeline\n",
    "from imblearn.pipeline import Pipeline\n",
    "from imblearn.over_sampling import RandomOverSampler\n",
    "from sklearn.feature_extraction.text import TfidfTransformer\n",
    "from sklearn.naive_bayes import MultinomialNB\n",
    "from sklearn.model_selection import train_test_split\n",
    "from sklearn.model_selection import cross_val_score\n",
    "from sklearn.metrics import  classification_report\n",
    "from sklearn.feature_selection import SelectPercentile"
   ]
  },
  {
   "cell_type": "code",
   "execution_count": 2,
   "id": "40afdead-65da-429b-a50f-0502db5333fb",
   "metadata": {
    "tags": []
   },
   "outputs": [],
   "source": [
    "#imports\n",
    "from time import time\n",
    "from sklearn.datasets import fetch_20newsgroups\n",
    "from sklearn.feature_extraction.text import CountVectorizer\n",
    "from sklearn.feature_extraction.text import TfidfTransformer\n",
    "from sklearn.svm import SVC\n",
    "#from sklearn.pipeline import Pipeline\n",
    "from sklearn.model_selection import GridSearchCV\n",
    "from sklearn.model_selection import RandomizedSearchCV\n",
    "from sklearn.model_selection import cross_val_score\n",
    "import optuna\n",
    "from sklearn.metrics import f1_score"
   ]
  },
  {
   "cell_type": "code",
   "execution_count": 3,
   "id": "7c89ff5c-9986-4808-bcf4-8ef62fbaf133",
   "metadata": {
    "tags": []
   },
   "outputs": [],
   "source": [
    "\n",
    "from sklearn.linear_model import LogisticRegression\n",
    "from sklearn.tree import DecisionTreeClassifier\n",
    "from sklearn.ensemble import RandomForestClassifier\n",
    "from sklearn.ensemble import AdaBoostClassifier \n",
    "from sklearn.ensemble import GradientBoostingClassifier\n",
    "from xgboost import XGBClassifier\n",
    "from sklearn.svm import LinearSVC\n",
    "import nltk\n",
    "from sklearn.model_selection import StratifiedKFold\n",
    "from sklearn.feature_extraction.text import TfidfVectorizer\n",
    "from sklearn.feature_selection import RFECV, RFE, SelectKBest\n",
    "from sklearn.compose import ColumnTransformer\n",
    "from sklearn.metrics import accuracy_score\n",
    "import numpy as np\n",
    "from sklearn.model_selection import RandomizedSearchCV\n",
    "from sklearn.preprocessing import LabelEncoder\n",
    "from sklearn import set_config\n",
    "set_config(display='diagram')\n",
    "from sklearn.svm import SVC\n",
    "import datetime\n",
    "import re"
   ]
  },
  {
   "cell_type": "markdown",
   "id": "726dd049-2914-4e15-aa97-41f875bc5e6d",
   "metadata": {},
   "source": [
    "# Importação dos dados"
   ]
  },
  {
   "cell_type": "code",
   "execution_count": 4,
   "id": "4f094c27-9803-45b7-927f-418b6a45133e",
   "metadata": {
    "tags": []
   },
   "outputs": [],
   "source": [
    "data = pd.read_csv('../../../../data/processed/(CORRIGIDO)ep2_pln_train_pos_pt_core_news_lg.xlsx')\n",
    "data.drop(['Unnamed: 0', 'pos'], axis=1, inplace=True)"
   ]
  },
  {
   "cell_type": "code",
   "execution_count": 5,
   "id": "0b506f40-5b6f-47c4-9ed9-5def04c2904b",
   "metadata": {
    "scrolled": true,
    "tags": []
   },
   "outputs": [
    {
     "data": {
      "text/html": [
       "<div>\n",
       "<style scoped>\n",
       "    .dataframe tbody tr th:only-of-type {\n",
       "        vertical-align: middle;\n",
       "    }\n",
       "\n",
       "    .dataframe tbody tr th {\n",
       "        vertical-align: top;\n",
       "    }\n",
       "\n",
       "    .dataframe thead th {\n",
       "        text-align: right;\n",
       "    }\n",
       "</style>\n",
       "<table border=\"1\" class=\"dataframe\">\n",
       "  <thead>\n",
       "    <tr style=\"text-align: right;\">\n",
       "      <th></th>\n",
       "      <th>req_text</th>\n",
       "      <th>age</th>\n",
       "    </tr>\n",
       "  </thead>\n",
       "  <tbody>\n",
       "    <tr>\n",
       "      <th>0</th>\n",
       "      <td>- Quantos empregados em cada um dos atuais nív...</td>\n",
       "      <td>a2</td>\n",
       "    </tr>\n",
       "    <tr>\n",
       "      <th>1</th>\n",
       "      <td>- Solicito cópia das Atas do Conselho de Admin...</td>\n",
       "      <td>a2</td>\n",
       "    </tr>\n",
       "    <tr>\n",
       "      <th>2</th>\n",
       "      <td>- Solicito informar a norma (lei, decreto, por...</td>\n",
       "      <td>a2</td>\n",
       "    </tr>\n",
       "    <tr>\n",
       "      <th>3</th>\n",
       "      <td>- Solicito por gentileza, a informação sobre a...</td>\n",
       "      <td>a2</td>\n",
       "    </tr>\n",
       "    <tr>\n",
       "      <th>4</th>\n",
       "      <td>- Solicito por gentileza, a informação sobre a...</td>\n",
       "      <td>a2</td>\n",
       "    </tr>\n",
       "  </tbody>\n",
       "</table>\n",
       "</div>"
      ],
      "text/plain": [
       "                                            req_text age\n",
       "0  - Quantos empregados em cada um dos atuais nív...  a2\n",
       "1  - Solicito cópia das Atas do Conselho de Admin...  a2\n",
       "2  - Solicito informar a norma (lei, decreto, por...  a2\n",
       "3  - Solicito por gentileza, a informação sobre a...  a2\n",
       "4  - Solicito por gentileza, a informação sobre a...  a2"
      ]
     },
     "execution_count": 5,
     "metadata": {},
     "output_type": "execute_result"
    }
   ],
   "source": [
    "data.head() # visualização das primeiras 5 linhas do dataframe"
   ]
  },
  {
   "cell_type": "code",
   "execution_count": 6,
   "id": "f63aa883-ac99-4955-a85d-29b694c42bab",
   "metadata": {},
   "outputs": [],
   "source": [
    "acentuados = ['á', 'é', 'í', 'ó', 'ú', 'ã', 'õ', 'â', 'ê', 'î', 'ô', 'û', 'à', 'è', 'ì', 'ò', 'ù', 'ä', 'ë', 'ï', 'ö', 'ü', 'ç',\n",
    "              'Á', 'É', 'Í', 'Ó', 'Ú', 'Ã', 'Õ', 'Â', 'Ê', 'Î', 'Ô', 'Û', 'À', 'È', 'Ì', 'Ò', 'Ù', 'Ä', 'Ë', 'Ï', 'Ö', 'Ü', 'Ç']\n",
    "\n",
    "pontuacoes = [',', '.', ';', ':', '!', '?', '(', ')', '[', ']', '{', '}', '<', '>', '-', '_', '=', '+', '/', '\\\\', '|', '@', '#', '$', '%', '^', '&', '*']\n",
    "\n",
    "list_chars = acentuados + pontuacoes + [' ']\n",
    "\n",
    "data['distorted_text'] = data['req_text'].apply(lambda x: ''.join([char if char in list_chars else \"*\" for char in x]))"
   ]
  },
  {
   "cell_type": "code",
   "execution_count": 7,
   "id": "98a67dc6-ac4a-462a-9c0f-ab05e8f3c7dd",
   "metadata": {},
   "outputs": [
    {
     "data": {
      "text/html": [
       "<div>\n",
       "<style scoped>\n",
       "    .dataframe tbody tr th:only-of-type {\n",
       "        vertical-align: middle;\n",
       "    }\n",
       "\n",
       "    .dataframe tbody tr th {\n",
       "        vertical-align: top;\n",
       "    }\n",
       "\n",
       "    .dataframe thead th {\n",
       "        text-align: right;\n",
       "    }\n",
       "</style>\n",
       "<table border=\"1\" class=\"dataframe\">\n",
       "  <thead>\n",
       "    <tr style=\"text-align: right;\">\n",
       "      <th></th>\n",
       "      <th>req_text</th>\n",
       "      <th>age</th>\n",
       "      <th>distorted_text</th>\n",
       "    </tr>\n",
       "  </thead>\n",
       "  <tbody>\n",
       "    <tr>\n",
       "      <th>0</th>\n",
       "      <td>- Quantos empregados em cada um dos atuais nív...</td>\n",
       "      <td>a2</td>\n",
       "      <td>- ******* ********** ** **** ** *** ****** *í*...</td>\n",
       "    </tr>\n",
       "    <tr>\n",
       "      <th>1</th>\n",
       "      <td>- Solicito cópia das Atas do Conselho de Admin...</td>\n",
       "      <td>a2</td>\n",
       "      <td>- ******** *ó*** *** **** ** ******** ** *****...</td>\n",
       "    </tr>\n",
       "    <tr>\n",
       "      <th>2</th>\n",
       "      <td>- Solicito informar a norma (lei, decreto, por...</td>\n",
       "      <td>a2</td>\n",
       "      <td>- ******** ******** * ***** (***, *******, ***...</td>\n",
       "    </tr>\n",
       "    <tr>\n",
       "      <th>3</th>\n",
       "      <td>- Solicito por gentileza, a informação sobre a...</td>\n",
       "      <td>a2</td>\n",
       "      <td>- ******** *** *********, * *******çã* ***** *...</td>\n",
       "    </tr>\n",
       "    <tr>\n",
       "      <th>4</th>\n",
       "      <td>- Solicito por gentileza, a informação sobre a...</td>\n",
       "      <td>a2</td>\n",
       "      <td>- ******** *** *********, * *******çã* ***** *...</td>\n",
       "    </tr>\n",
       "  </tbody>\n",
       "</table>\n",
       "</div>"
      ],
      "text/plain": [
       "                                            req_text age  \\\n",
       "0  - Quantos empregados em cada um dos atuais nív...  a2   \n",
       "1  - Solicito cópia das Atas do Conselho de Admin...  a2   \n",
       "2  - Solicito informar a norma (lei, decreto, por...  a2   \n",
       "3  - Solicito por gentileza, a informação sobre a...  a2   \n",
       "4  - Solicito por gentileza, a informação sobre a...  a2   \n",
       "\n",
       "                                      distorted_text  \n",
       "0  - ******* ********** ** **** ** *** ****** *í*...  \n",
       "1  - ******** *ó*** *** **** ** ******** ** *****...  \n",
       "2  - ******** ******** * ***** (***, *******, ***...  \n",
       "3  - ******** *** *********, * *******çã* ***** *...  \n",
       "4  - ******** *** *********, * *******çã* ***** *...  "
      ]
     },
     "execution_count": 7,
     "metadata": {},
     "output_type": "execute_result"
    }
   ],
   "source": [
    "data.head()"
   ]
  },
  {
   "cell_type": "code",
   "execution_count": 8,
   "id": "e0b266ed-16ee-4ab2-b395-bb495a113c63",
   "metadata": {},
   "outputs": [
    {
     "data": {
      "text/plain": [
       "'- Quantos empregados em cada um dos atuais níveis salariais, no PCAC, aderiram ao PCR? - Qual o total de empregados com função gratificada, gerencial ou assemelhados e quantos destes aderiram ao PCR? - Quantos empregados com mais de 30 anos, 20 anos, 15 a'"
      ]
     },
     "execution_count": 8,
     "metadata": {},
     "output_type": "execute_result"
    }
   ],
   "source": [
    "data.req_text.iloc[0]"
   ]
  },
  {
   "cell_type": "code",
   "execution_count": 9,
   "id": "8a3124d7-2cfa-4463-84e4-77b52cd82f65",
   "metadata": {},
   "outputs": [
    {
     "data": {
      "text/plain": [
       "'- ******* ********** ** **** ** *** ****** *í**** *********, ** ****, ******** ** ***? - **** * ***** ** ********** *** ***çã* ***********, ********* ** ************ * ******* ****** ******** ** ***? - ******* ********** *** **** ** ** ****, ** ****, ** *'"
      ]
     },
     "execution_count": 9,
     "metadata": {},
     "output_type": "execute_result"
    }
   ],
   "source": [
    "data.distorted_text.iloc[0]"
   ]
  },
  {
   "cell_type": "code",
   "execution_count": 10,
   "id": "2f84b585-b136-4eaa-a31e-b314a8417e6e",
   "metadata": {},
   "outputs": [
    {
     "data": {
      "text/plain": [
       "req_text          object\n",
       "age               object\n",
       "distorted_text    object\n",
       "dtype: object"
      ]
     },
     "execution_count": 10,
     "metadata": {},
     "output_type": "execute_result"
    }
   ],
   "source": [
    "data.dtypes"
   ]
  },
  {
   "cell_type": "code",
   "execution_count": 11,
   "id": "34f7a6c0-5b3a-4e1d-88aa-085d5b93d9f9",
   "metadata": {
    "tags": []
   },
   "outputs": [
    {
     "data": {
      "text/plain": [
       "(8200, 3)"
      ]
     },
     "execution_count": 11,
     "metadata": {},
     "output_type": "execute_result"
    }
   ],
   "source": [
    "data.shape # visualização do formato do dataframe"
   ]
  },
  {
   "cell_type": "code",
   "execution_count": 12,
   "id": "51c6d53f-17cb-4a87-8377-0fc88daf9fc0",
   "metadata": {},
   "outputs": [
    {
     "data": {
      "text/plain": [
       "age\n",
       "a3    3000\n",
       "a2    2000\n",
       "a4    2000\n",
       "a1    1200\n",
       "Name: count, dtype: int64"
      ]
     },
     "execution_count": 12,
     "metadata": {},
     "output_type": "execute_result"
    }
   ],
   "source": [
    "data.age.value_counts()"
   ]
  },
  {
   "cell_type": "code",
   "execution_count": 13,
   "id": "f2ef30cb-c985-4221-b0fb-48e617b6732c",
   "metadata": {
    "tags": []
   },
   "outputs": [],
   "source": [
    "data['age'] = data['age'].map({\n",
    "                                'a4':3,\n",
    "                                'a3': 2,\n",
    "                                'a2': 1,\n",
    "                                'a1': 0})"
   ]
  },
  {
   "cell_type": "code",
   "execution_count": 14,
   "id": "4910bc1c-f52a-4bae-985f-a5282c1729a3",
   "metadata": {
    "tags": []
   },
   "outputs": [
    {
     "data": {
      "text/html": [
       "<div>\n",
       "<style scoped>\n",
       "    .dataframe tbody tr th:only-of-type {\n",
       "        vertical-align: middle;\n",
       "    }\n",
       "\n",
       "    .dataframe tbody tr th {\n",
       "        vertical-align: top;\n",
       "    }\n",
       "\n",
       "    .dataframe thead th {\n",
       "        text-align: right;\n",
       "    }\n",
       "</style>\n",
       "<table border=\"1\" class=\"dataframe\">\n",
       "  <thead>\n",
       "    <tr style=\"text-align: right;\">\n",
       "      <th></th>\n",
       "      <th>req_text</th>\n",
       "      <th>age</th>\n",
       "      <th>distorted_text</th>\n",
       "    </tr>\n",
       "  </thead>\n",
       "  <tbody>\n",
       "    <tr>\n",
       "      <th>0</th>\n",
       "      <td>- Quantos empregados em cada um dos atuais nív...</td>\n",
       "      <td>1</td>\n",
       "      <td>- ******* ********** ** **** ** *** ****** *í*...</td>\n",
       "    </tr>\n",
       "    <tr>\n",
       "      <th>1</th>\n",
       "      <td>- Solicito cópia das Atas do Conselho de Admin...</td>\n",
       "      <td>1</td>\n",
       "      <td>- ******** *ó*** *** **** ** ******** ** *****...</td>\n",
       "    </tr>\n",
       "    <tr>\n",
       "      <th>2</th>\n",
       "      <td>- Solicito informar a norma (lei, decreto, por...</td>\n",
       "      <td>1</td>\n",
       "      <td>- ******** ******** * ***** (***, *******, ***...</td>\n",
       "    </tr>\n",
       "    <tr>\n",
       "      <th>3</th>\n",
       "      <td>- Solicito por gentileza, a informação sobre a...</td>\n",
       "      <td>1</td>\n",
       "      <td>- ******** *** *********, * *******çã* ***** *...</td>\n",
       "    </tr>\n",
       "    <tr>\n",
       "      <th>4</th>\n",
       "      <td>- Solicito por gentileza, a informação sobre a...</td>\n",
       "      <td>1</td>\n",
       "      <td>- ******** *** *********, * *******çã* ***** *...</td>\n",
       "    </tr>\n",
       "  </tbody>\n",
       "</table>\n",
       "</div>"
      ],
      "text/plain": [
       "                                            req_text  age  \\\n",
       "0  - Quantos empregados em cada um dos atuais nív...    1   \n",
       "1  - Solicito cópia das Atas do Conselho de Admin...    1   \n",
       "2  - Solicito informar a norma (lei, decreto, por...    1   \n",
       "3  - Solicito por gentileza, a informação sobre a...    1   \n",
       "4  - Solicito por gentileza, a informação sobre a...    1   \n",
       "\n",
       "                                      distorted_text  \n",
       "0  - ******* ********** ** **** ** *** ****** *í*...  \n",
       "1  - ******** *ó*** *** **** ** ******** ** *****...  \n",
       "2  - ******** ******** * ***** (***, *******, ***...  \n",
       "3  - ******** *** *********, * *******çã* ***** *...  \n",
       "4  - ******** *** *********, * *******çã* ***** *...  "
      ]
     },
     "execution_count": 14,
     "metadata": {},
     "output_type": "execute_result"
    }
   ],
   "source": [
    "data.head()"
   ]
  },
  {
   "cell_type": "code",
   "execution_count": 15,
   "id": "8c659419-4e04-45cc-88c3-dbbeec61d993",
   "metadata": {
    "tags": []
   },
   "outputs": [],
   "source": [
    "# a seguir os dados serão divididos entre features (X) e label (y)\n",
    "X = data['distorted_text'] # features\n",
    "y = data['age'] # label"
   ]
  },
  {
   "cell_type": "markdown",
   "id": "defb5652-63fb-4fb7-b59f-16c9fbe8699a",
   "metadata": {},
   "source": [
    "# Seleção de hiperparâmetros"
   ]
  },
  {
   "cell_type": "markdown",
   "id": "7383f61a-c05a-4c82-bdda-95a7856198ab",
   "metadata": {},
   "source": [
    "Nesta seção, será feita a comparação entre classificadores com os melhores hiperparâmetros encontrados através da utilização do otimizador Optuna, que, resumidamente, funciona de X forma. Os classificadores comparados são:\n",
    "- Regressão Logística\n",
    "- Random Forest\n",
    "- XGBoost"
   ]
  },
  {
   "cell_type": "code",
   "execution_count": 16,
   "id": "114a5435-f249-4ab4-aa5d-eb8adb732470",
   "metadata": {
    "tags": []
   },
   "outputs": [],
   "source": [
    "import warnings\n",
    "warnings.filterwarnings('ignore')"
   ]
  },
  {
   "cell_type": "code",
   "execution_count": 17,
   "id": "2843a037-0eae-458f-bca9-296fb683a646",
   "metadata": {
    "tags": []
   },
   "outputs": [],
   "source": [
    "X_train, X_test, y_train, y_test = train_test_split(X, y, test_size=0.2, random_state=42,\n",
    "                                                   stratify=y)"
   ]
  },
  {
   "cell_type": "markdown",
   "id": "324d4728-aaa3-4fed-8495-6a2feacba516",
   "metadata": {},
   "source": [
    "# Seleção do modelo"
   ]
  },
  {
   "cell_type": "code",
   "execution_count": 22,
   "id": "a72d42fd-ae47-4426-873d-24812b262f80",
   "metadata": {},
   "outputs": [],
   "source": [
    "def seleciona_grid(model):\n",
    "\n",
    "    param_grid = None\n",
    "\n",
    "    if isinstance(model, MultinomialNB):\n",
    "            param_grid = {\n",
    "            \"vect__analyzer\": ['word', 'char'],\n",
    "            \"vect__ngram_range\": [(1,2), (1,3), (1,4), (1,5), (1,6), (2,3), (2,4), (2,5), (2,6),\n",
    "                                  (3,4), (3,5), (3,6), (4,5), (4,6), (5,6)],\n",
    "            \"selection__percentile\": [33, 66, 100],\n",
    "            \"estimator__alpha\": [50, 15, 10, 5, 1, 0.5, 0.3, 0.1, 0.05, 0.03, 0.02, 0.01,  0.001],\n",
    "            \"estimator__fit_prior\": [True, False],\n",
    "            }\n",
    "\n",
    "    return param_grid"
   ]
  },
  {
   "cell_type": "code",
   "execution_count": 23,
   "id": "04101a57-b165-4caa-a663-3f3395026b13",
   "metadata": {},
   "outputs": [],
   "source": [
    "def fit_e_avalia(random_search):\n",
    "    \n",
    "    inicio_random_search = datetime.datetime.now()\n",
    "\n",
    "    model_trained = random_search.fit(X_train, y_train) # fit\n",
    "\n",
    "    fim_random_search = datetime.datetime.now()\n",
    "    tempo_total = fim_random_search - inicio_random_search\n",
    "    print(f'Duração da Random Search: {tempo_total}')\n",
    "\n",
    "    y_pred = model_trained.predict(X_test) # predicao\n",
    "\n",
    "    # Predição F1 e Class Report\n",
    "    f1 = f1_score(y_test, y_pred, average= 'macro') # f1\n",
    "    f1 *= 100\n",
    "    f1 = round(f1,2)\n",
    "    report = classification_report(y_test, y_pred, output_dict=True) # class report\n",
    "    \n",
    "    return model_trained, tempo_total, f1, report"
   ]
  },
  {
   "cell_type": "code",
   "execution_count": 24,
   "id": "32055d7b-f151-4e90-bf8a-3c8da39efe66",
   "metadata": {},
   "outputs": [
    {
     "name": "stdout",
     "output_type": "stream",
     "text": [
      "Fim dos testes\n"
     ]
    }
   ],
   "source": [
    "def compara(iteracoes, modelos, nome_arquivo):\n",
    "\n",
    "    # seletor de features\n",
    "    selection = SelectPercentile()\n",
    "\n",
    "    # possibilidades de oversampling ou nao\n",
    "    #samplers = [RandomOverSampler(random_state=42), None]\n",
    "\n",
    "    # dataframe em que sera inserido os dados do modelo testado \n",
    "    df_resultados = pd.DataFrame(columns=['modelo', 'vect', 'scaling',\n",
    "                                          'duracao_random_search','qnt_iteracoes',\n",
    "                                          'f1_randsearch', \n",
    "                                           'f1_pred',\n",
    "                                          'class_report',\n",
    "                                         'duracao_aval_iv',\n",
    "                                          'acc_aval_iv',\n",
    "                                         'melhores_parametros'])\n",
    "    \n",
    "    for model in modelos:\n",
    "\n",
    "                \n",
    "        # seleciona grid de parametros\n",
    "        param_grid = seleciona_grid(model)  \n",
    "        \n",
    "        scaler = MaxAbsScaler()\n",
    "\n",
    "        # define o pipeline\n",
    "        pipeline = Pipeline([\n",
    "                ('vect', TfidfVectorizer()),\n",
    "                ('scaling', scaler), \n",
    "                ('selection', selection),\n",
    "                ('estimator', model)\n",
    "                ])\n",
    "\n",
    "        \n",
    "        #  --- Prints das configurações dessa iteracao ---\n",
    "        print(f'Modelo: {model}')\n",
    "        print(f'Scaler: {scaler}')\n",
    "            \n",
    "\n",
    "        # definicao da randomized search\n",
    "        random_search = RandomizedSearchCV(pipeline, param_distributions=param_grid,\n",
    "                                           cv=StratifiedKFold(n_splits=5),\n",
    "                                            n_iter=iteracoes, n_jobs=1, random_state=42, scoring='f1_macro')\n",
    "\n",
    "\n",
    "        # fit e avaliacao pela randomized search\n",
    "        model_trained, tempo_total, f1, report = fit_e_avalia(random_search)\n",
    "            \n",
    "        print('---')\n",
    "        resultados = model_trained.cv_results_\n",
    "\n",
    "        for params, score in zip(resultados['params'], resultados['mean_test_score']):\n",
    "            print(f\"Parâmetros: {params}, Score: {score}\")\n",
    "        print('---')    \n",
    "            \n",
    "        # melhor metrica na random search\n",
    "        score_random_search = model_trained.best_score_\n",
    "        score_random_search *= 100\n",
    "        score_random_search = round(score_random_search,2)\n",
    "        print(f'Melhor F1 na Random Search: {score_random_search}%')\n",
    "        \n",
    "        # melhores parametros encontrados\n",
    "        print('Melhores parâmetros encontrados:')\n",
    "        print(model_trained.best_params_)\n",
    "\n",
    "        \n",
    "        # acuracia da predicao\n",
    "        print(f'F1 macro = {f1}%')\n",
    "\n",
    "        # classification report\n",
    "        print(report)\n",
    "\n",
    "        # Avaliação Ivandre\n",
    "        pipeline = Pipeline([\n",
    "                        ('vect', TfidfVectorizer()),\n",
    "                        ('scaling', scaler), \n",
    "                        ('selection', selection),\n",
    "                        ('estimator', model)\n",
    "                        ])\n",
    "    \n",
    "        pipeline = pipeline.set_params(**model_trained.best_params_)\n",
    "    \n",
    "        print(f'get_params: {pipeline.get_params}')\n",
    "        \n",
    "        inicio_aval_iv = datetime.datetime.now()\n",
    "        acc_iv = cross_val_score(pipeline, X, y, scoring='accuracy', cv=10, n_jobs=2).mean()\n",
    "        acc_iv *= 100\n",
    "        acc_iv = round(acc_iv,2)\n",
    "        fim_aval_iv = datetime.datetime.now()\n",
    "        tempo_aval_iv = fim_aval_iv - inicio_aval_iv\n",
    "        print(f'Duração da Avaliação Ivandre: {tempo_aval_iv}')\n",
    "    \n",
    "        print(f'Acurácia Ivandre = {acc_iv}%')\n",
    "                \n",
    "        \n",
    "        print('----------------------------------------------')\n",
    "        \n",
    "        # --- Escrita em memória secundária ---\n",
    "\n",
    "        # Nova linha que sera adicionada\n",
    "        nova_linha = {'modelo': model, 'vect': TfidfVectorizer(analyzer='word'),\n",
    "                    'scaling': scaler,\n",
    "                      'duracao_random_search': tempo_total,\n",
    "                      'qnt_iteracoes': iteracoes,\n",
    "                      'f1_randsearch': f'{score_random_search}%',\n",
    "                      'f1_pred': f'{f1}%', 'class_report': report,\n",
    "                       'duracao_aval_iv': tempo_aval_iv,\n",
    "                       'acc_aval_iv': f'{acc_iv}%',\n",
    "                       'melhores_parametros': str(model_trained.best_params_)}\n",
    "    \n",
    "        # Cria um novo DataFrame com a nova linha\n",
    "        nova_linha_resultados = pd.DataFrame([nova_linha])\n",
    "    \n",
    "        # Concatena o novo DataFrame com o DataFrame existente\n",
    "        df_resultados = pd.concat([df_resultados, nova_linha_resultados], ignore_index=True)\n",
    "\n",
    "        # salvamento do dataframe de resultados apos os testes terem terminado\n",
    "        df_resultados.to_csv(nome_arquivo, index=False)\n",
    "\n",
    "\n",
    "print('Fim dos testes')"
   ]
  },
  {
   "cell_type": "code",
   "execution_count": 26,
   "id": "3a0bde26-b65b-41f7-af08-268f7875e815",
   "metadata": {},
   "outputs": [
    {
     "name": "stdout",
     "output_type": "stream",
     "text": [
      "Modelo: MultinomialNB()\n",
      "Scaler: MaxAbsScaler()\n",
      "Duração da Random Search: 0:02:00.070849\n",
      "---\n",
      "Parâmetros: {'vect__ngram_range': (2, 3), 'vect__analyzer': 'char', 'selection__percentile': 66, 'estimator__fit_prior': False, 'estimator__alpha': 1}, Score: 0.31388658124277635\n",
      "Parâmetros: {'vect__ngram_range': (1, 6), 'vect__analyzer': 'word', 'selection__percentile': 66, 'estimator__fit_prior': True, 'estimator__alpha': 0.1}, Score: 0.14869866195804718\n",
      "Parâmetros: {'vect__ngram_range': (2, 3), 'vect__analyzer': 'char', 'selection__percentile': 66, 'estimator__fit_prior': True, 'estimator__alpha': 0.3}, Score: 0.2620239804237127\n",
      "Parâmetros: {'vect__ngram_range': (1, 2), 'vect__analyzer': 'char', 'selection__percentile': 33, 'estimator__fit_prior': True, 'estimator__alpha': 0.3}, Score: 0.17858423190459888\n",
      "Parâmetros: {'vect__ngram_range': (1, 5), 'vect__analyzer': 'char', 'selection__percentile': 33, 'estimator__fit_prior': True, 'estimator__alpha': 0.03}, Score: 0.33671003436799696\n",
      "Parâmetros: {'vect__ngram_range': (3, 4), 'vect__analyzer': 'word', 'selection__percentile': 33, 'estimator__fit_prior': True, 'estimator__alpha': 0.001}, Score: 0.136666581158775\n",
      "Parâmetros: {'vect__ngram_range': (1, 3), 'vect__analyzer': 'char', 'selection__percentile': 33, 'estimator__fit_prior': False, 'estimator__alpha': 10}, Score: 0.22395448099833146\n",
      "Parâmetros: {'vect__ngram_range': (2, 6), 'vect__analyzer': 'word', 'selection__percentile': 100, 'estimator__fit_prior': False, 'estimator__alpha': 0.3}, Score: 0.18317351446189717\n",
      "Parâmetros: {'vect__ngram_range': (1, 2), 'vect__analyzer': 'word', 'selection__percentile': 100, 'estimator__fit_prior': False, 'estimator__alpha': 15}, Score: 0.16901890553190263\n",
      "Parâmetros: {'vect__ngram_range': (4, 5), 'vect__analyzer': 'word', 'selection__percentile': 66, 'estimator__fit_prior': True, 'estimator__alpha': 0.05}, Score: 0.13974919596361404\n",
      "---\n",
      "Melhor F1 na Random Search: 33.67%\n",
      "Melhores parâmetros encontrados:\n",
      "{'vect__ngram_range': (1, 5), 'vect__analyzer': 'char', 'selection__percentile': 33, 'estimator__fit_prior': True, 'estimator__alpha': 0.03}\n",
      "F1 macro = 33.29%\n",
      "{'0': {'precision': 0.22727272727272727, 'recall': 0.10416666666666667, 'f1-score': 0.14285714285714288, 'support': 240}, '1': {'precision': 0.342, 'recall': 0.4275, 'f1-score': 0.37999999999999995, 'support': 400}, '2': {'precision': 0.42857142857142855, 'recall': 0.35, 'f1-score': 0.3853211009174312, 'support': 600}, '3': {'precision': 0.3685185185185185, 'recall': 0.4975, 'f1-score': 0.42340425531914894, 'support': 400}, 'accuracy': 0.36890243902439024, 'macro avg': {'precision': 0.34159066859066856, 'recall': 0.34479166666666666, 'f1-score': 0.3328956247734307, 'support': 1640}, 'weighted avg': {'precision': 0.363351048229097, 'recall': 0.36890243902439024, 'f1-score': 0.35782931522184913, 'support': 1640}}\n",
      "get_params: <bound method Pipeline.get_params of Pipeline(steps=[('vect', TfidfVectorizer(analyzer='char', ngram_range=(1, 5))),\n",
      "                ('scaling', MaxAbsScaler()),\n",
      "                ('selection', SelectPercentile(percentile=33)),\n",
      "                ('estimator', MultinomialNB(alpha=0.03))])>\n",
      "Duração da Avaliação Ivandre: 0:00:51.645944\n",
      "Acurácia Ivandre = 30.93%\n",
      "----------------------------------------------\n"
     ]
    }
   ],
   "source": [
    "modelos = [MultinomialNB()]\n",
    "iteracoes = 1000\n",
    "compara(iteracoes, modelos, 'nb-pont-acent-' + str(iteracoes) + '.csv')"
   ]
  }
 ],
 "metadata": {
  "kernelspec": {
   "display_name": "Python 3 (ipykernel)",
   "language": "python",
   "name": "python3"
  },
  "language_info": {
   "codemirror_mode": {
    "name": "ipython",
    "version": 3
   },
   "file_extension": ".py",
   "mimetype": "text/x-python",
   "name": "python",
   "nbconvert_exporter": "python",
   "pygments_lexer": "ipython3",
   "version": "3.9.13"
  }
 },
 "nbformat": 4,
 "nbformat_minor": 5
}
