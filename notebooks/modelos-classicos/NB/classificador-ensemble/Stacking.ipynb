{
 "cells": [
  {
   "cell_type": "code",
   "execution_count": 1,
   "id": "230fa686-7e52-484a-87db-3e63ed119452",
   "metadata": {},
   "outputs": [],
   "source": [
    "import pandas as pd \n",
    "\n",
    "from sklearn.feature_extraction.text import CountVectorizer\n",
    "from sklearn.preprocessing import MaxAbsScaler\n",
    "from sklearn.pipeline import Pipeline\n",
    "#from imblearn.pipeline import Pipeline\n",
    "from imblearn.over_sampling import RandomOverSampler\n",
    "from sklearn.feature_extraction.text import TfidfTransformer\n",
    "from sklearn.naive_bayes import MultinomialNB\n",
    "from sklearn.model_selection import train_test_split\n",
    "from sklearn.model_selection import cross_val_score\n",
    "from sklearn.metrics import  classification_report\n",
    "from sklearn.feature_selection import SelectPercentile"
   ]
  },
  {
   "cell_type": "code",
   "execution_count": 2,
   "id": "134a8ad8-0414-4b18-aa33-8169bbbee3cf",
   "metadata": {},
   "outputs": [],
   "source": [
    "#imports\n",
    "from time import time\n",
    "from sklearn.datasets import fetch_20newsgroups\n",
    "from sklearn.feature_extraction.text import CountVectorizer\n",
    "from sklearn.feature_extraction.text import TfidfTransformer\n",
    "from sklearn.svm import SVC\n",
    "#from sklearn.pipeline import Pipeline\n",
    "from sklearn.model_selection import GridSearchCV\n",
    "from sklearn.model_selection import RandomizedSearchCV\n",
    "from sklearn.model_selection import cross_val_score\n",
    "import optuna\n",
    "from sklearn.metrics import f1_score"
   ]
  },
  {
   "cell_type": "code",
   "execution_count": 3,
   "id": "232ae08f-e2a3-412b-9e6c-8356f9a0d71b",
   "metadata": {},
   "outputs": [],
   "source": [
    "\n",
    "from sklearn.linear_model import LogisticRegression\n",
    "from sklearn.tree import DecisionTreeClassifier\n",
    "from sklearn.ensemble import RandomForestClassifier\n",
    "from sklearn.ensemble import AdaBoostClassifier \n",
    "from sklearn.ensemble import GradientBoostingClassifier\n",
    "from xgboost import XGBClassifier\n",
    "from sklearn.svm import LinearSVC\n",
    "import nltk\n",
    "from sklearn.model_selection import StratifiedKFold\n",
    "from sklearn.feature_extraction.text import TfidfVectorizer\n",
    "from sklearn.feature_selection import RFECV, RFE, SelectKBest\n",
    "from sklearn.compose import ColumnTransformer\n",
    "from sklearn.metrics import accuracy_score\n",
    "import numpy as np\n",
    "from sklearn.model_selection import RandomizedSearchCV\n",
    "from sklearn.preprocessing import LabelEncoder\n",
    "from sklearn import set_config\n",
    "set_config(display='diagram')\n",
    "from sklearn.svm import SVC\n",
    "import datetime\n",
    "from sklearn.ensemble import StackingClassifier"
   ]
  },
  {
   "cell_type": "markdown",
   "id": "338b031f-8a9b-4f79-96f2-e18ad437d35b",
   "metadata": {},
   "source": [
    "# Leitura dos dados"
   ]
  },
  {
   "cell_type": "code",
   "execution_count": 61,
   "id": "e2f39139-7aa4-4dd6-bc6a-145f08a56097",
   "metadata": {},
   "outputs": [
    {
     "data": {
      "text/html": [
       "<div>\n",
       "<style scoped>\n",
       "    .dataframe tbody tr th:only-of-type {\n",
       "        vertical-align: middle;\n",
       "    }\n",
       "\n",
       "    .dataframe tbody tr th {\n",
       "        vertical-align: top;\n",
       "    }\n",
       "\n",
       "    .dataframe thead th {\n",
       "        text-align: right;\n",
       "    }\n",
       "</style>\n",
       "<table border=\"1\" class=\"dataframe\">\n",
       "  <thead>\n",
       "    <tr style=\"text-align: right;\">\n",
       "      <th></th>\n",
       "      <th>req_text</th>\n",
       "      <th>age</th>\n",
       "      <th>pos</th>\n",
       "    </tr>\n",
       "  </thead>\n",
       "  <tbody>\n",
       "    <tr>\n",
       "      <th>0</th>\n",
       "      <td>- Quantos empregados em cada um dos atuais nív...</td>\n",
       "      <td>a2</td>\n",
       "      <td>PUNCT DET NOUN ADP DET NUM ADP ADJ NOUN ADJ PU...</td>\n",
       "    </tr>\n",
       "    <tr>\n",
       "      <th>1</th>\n",
       "      <td>- Solicito cópia das Atas do Conselho de Admin...</td>\n",
       "      <td>a2</td>\n",
       "      <td>PUNCT VERB NOUN ADP PROPN ADP PROPN ADP NOUN A...</td>\n",
       "    </tr>\n",
       "    <tr>\n",
       "      <th>2</th>\n",
       "      <td>- Solicito informar a norma (lei, decreto, por...</td>\n",
       "      <td>a2</td>\n",
       "      <td>PUNCT VERB VERB DET NOUN PUNCT NOUN PUNCT NOUN...</td>\n",
       "    </tr>\n",
       "    <tr>\n",
       "      <th>3</th>\n",
       "      <td>- Solicito por gentileza, a informação sobre a...</td>\n",
       "      <td>a2</td>\n",
       "      <td>PUNCT VERB ADP NOUN PUNCT DET NOUN ADP DET NOU...</td>\n",
       "    </tr>\n",
       "    <tr>\n",
       "      <th>4</th>\n",
       "      <td>- Solicito por gentileza, a informação sobre a...</td>\n",
       "      <td>a2</td>\n",
       "      <td>PUNCT VERB ADP NOUN PUNCT DET NOUN ADP DET NOU...</td>\n",
       "    </tr>\n",
       "  </tbody>\n",
       "</table>\n",
       "</div>"
      ],
      "text/plain": [
       "                                            req_text age  \\\n",
       "0  - Quantos empregados em cada um dos atuais nív...  a2   \n",
       "1  - Solicito cópia das Atas do Conselho de Admin...  a2   \n",
       "2  - Solicito informar a norma (lei, decreto, por...  a2   \n",
       "3  - Solicito por gentileza, a informação sobre a...  a2   \n",
       "4  - Solicito por gentileza, a informação sobre a...  a2   \n",
       "\n",
       "                                                 pos  \n",
       "0  PUNCT DET NOUN ADP DET NUM ADP ADJ NOUN ADJ PU...  \n",
       "1  PUNCT VERB NOUN ADP PROPN ADP PROPN ADP NOUN A...  \n",
       "2  PUNCT VERB VERB DET NOUN PUNCT NOUN PUNCT NOUN...  \n",
       "3  PUNCT VERB ADP NOUN PUNCT DET NOUN ADP DET NOU...  \n",
       "4  PUNCT VERB ADP NOUN PUNCT DET NOUN ADP DET NOU...  "
      ]
     },
     "execution_count": 61,
     "metadata": {},
     "output_type": "execute_result"
    }
   ],
   "source": [
    "data = pd.read_csv('../../../../data/processed/(CORRIGIDO)ep2_pln_train_pos_pt_core_news_lg.xlsx')\n",
    "data.drop(['Unnamed: 0'], axis=1, inplace=True)\n",
    "data.head()"
   ]
  },
  {
   "cell_type": "code",
   "execution_count": 62,
   "id": "fd5cc08c-8981-4815-a8e6-89233e4cc605",
   "metadata": {},
   "outputs": [],
   "source": [
    "data['age'] = data['age'].map({\n",
    "                                'a4':3,\n",
    "                                'a3': 2,\n",
    "                                'a2': 1,\n",
    "                                'a1': 0})"
   ]
  },
  {
   "cell_type": "code",
   "execution_count": 63,
   "id": "7774ccf1-52f7-448a-9349-1e061bf8fac6",
   "metadata": {
    "scrolled": true
   },
   "outputs": [
    {
     "data": {
      "text/html": [
       "<div>\n",
       "<style scoped>\n",
       "    .dataframe tbody tr th:only-of-type {\n",
       "        vertical-align: middle;\n",
       "    }\n",
       "\n",
       "    .dataframe tbody tr th {\n",
       "        vertical-align: top;\n",
       "    }\n",
       "\n",
       "    .dataframe thead th {\n",
       "        text-align: right;\n",
       "    }\n",
       "</style>\n",
       "<table border=\"1\" class=\"dataframe\">\n",
       "  <thead>\n",
       "    <tr style=\"text-align: right;\">\n",
       "      <th></th>\n",
       "      <th>req_text</th>\n",
       "      <th>age</th>\n",
       "      <th>pos</th>\n",
       "      <th>distorted_text</th>\n",
       "    </tr>\n",
       "  </thead>\n",
       "  <tbody>\n",
       "    <tr>\n",
       "      <th>0</th>\n",
       "      <td>- Quantos empregados em cada um dos atuais nív...</td>\n",
       "      <td>1</td>\n",
       "      <td>PUNCT DET NOUN ADP DET NUM ADP ADJ NOUN ADJ PU...</td>\n",
       "      <td>- ******* ********** ** **** ** *** ****** *í*...</td>\n",
       "    </tr>\n",
       "    <tr>\n",
       "      <th>1</th>\n",
       "      <td>- Solicito cópia das Atas do Conselho de Admin...</td>\n",
       "      <td>1</td>\n",
       "      <td>PUNCT VERB NOUN ADP PROPN ADP PROPN ADP NOUN A...</td>\n",
       "      <td>- ******** *ó*** *** **** ** ******** ** *****...</td>\n",
       "    </tr>\n",
       "    <tr>\n",
       "      <th>2</th>\n",
       "      <td>- Solicito informar a norma (lei, decreto, por...</td>\n",
       "      <td>1</td>\n",
       "      <td>PUNCT VERB VERB DET NOUN PUNCT NOUN PUNCT NOUN...</td>\n",
       "      <td>- ******** ******** * ***** (***, *******, ***...</td>\n",
       "    </tr>\n",
       "    <tr>\n",
       "      <th>3</th>\n",
       "      <td>- Solicito por gentileza, a informação sobre a...</td>\n",
       "      <td>1</td>\n",
       "      <td>PUNCT VERB ADP NOUN PUNCT DET NOUN ADP DET NOU...</td>\n",
       "      <td>- ******** *** *********, * *******çã* ***** *...</td>\n",
       "    </tr>\n",
       "    <tr>\n",
       "      <th>4</th>\n",
       "      <td>- Solicito por gentileza, a informação sobre a...</td>\n",
       "      <td>1</td>\n",
       "      <td>PUNCT VERB ADP NOUN PUNCT DET NOUN ADP DET NOU...</td>\n",
       "      <td>- ******** *** *********, * *******çã* ***** *...</td>\n",
       "    </tr>\n",
       "  </tbody>\n",
       "</table>\n",
       "</div>"
      ],
      "text/plain": [
       "                                            req_text  age  \\\n",
       "0  - Quantos empregados em cada um dos atuais nív...    1   \n",
       "1  - Solicito cópia das Atas do Conselho de Admin...    1   \n",
       "2  - Solicito informar a norma (lei, decreto, por...    1   \n",
       "3  - Solicito por gentileza, a informação sobre a...    1   \n",
       "4  - Solicito por gentileza, a informação sobre a...    1   \n",
       "\n",
       "                                                 pos  \\\n",
       "0  PUNCT DET NOUN ADP DET NUM ADP ADJ NOUN ADJ PU...   \n",
       "1  PUNCT VERB NOUN ADP PROPN ADP PROPN ADP NOUN A...   \n",
       "2  PUNCT VERB VERB DET NOUN PUNCT NOUN PUNCT NOUN...   \n",
       "3  PUNCT VERB ADP NOUN PUNCT DET NOUN ADP DET NOU...   \n",
       "4  PUNCT VERB ADP NOUN PUNCT DET NOUN ADP DET NOU...   \n",
       "\n",
       "                                      distorted_text  \n",
       "0  - ******* ********** ** **** ** *** ****** *í*...  \n",
       "1  - ******** *ó*** *** **** ** ******** ** *****...  \n",
       "2  - ******** ******** * ***** (***, *******, ***...  \n",
       "3  - ******** *** *********, * *******çã* ***** *...  \n",
       "4  - ******** *** *********, * *******çã* ***** *...  "
      ]
     },
     "execution_count": 63,
     "metadata": {},
     "output_type": "execute_result"
    }
   ],
   "source": [
    "acentuados = ['á', 'é', 'í', 'ó', 'ú', 'ã', 'õ', 'â', 'ê', 'î', 'ô', 'û', 'à', 'è', 'ì', 'ò', 'ù', 'ä', 'ë', 'ï', 'ö', 'ü', 'ç',\n",
    "              'Á', 'É', 'Í', 'Ó', 'Ú', 'Ã', 'Õ', 'Â', 'Ê', 'Î', 'Ô', 'Û', 'À', 'È', 'Ì', 'Ò', 'Ù', 'Ä', 'Ë', 'Ï', 'Ö', 'Ü', 'Ç']\n",
    "\n",
    "pontuacoes = [',', '.', ';', ':', '!', '?', '(', ')', '[', ']', '{', '}', '<', '>', '-', '_', '=', '+', '/', '\\\\', '|', '@', '#', '$', '%', '^', '&', '*']\n",
    "\n",
    "list_chars = acentuados + pontuacoes + [' ']\n",
    "\n",
    "data['distorted_text'] = data['req_text'].apply(lambda x: ''.join([char if char in list_chars else \"*\" for char in x]))\n",
    "\n",
    "data.head()"
   ]
  },
  {
   "cell_type": "code",
   "execution_count": 64,
   "id": "fe9c6e16-f92b-4aac-84e3-3a5f2947331b",
   "metadata": {},
   "outputs": [],
   "source": [
    "data.to_csv('text_pos_pa.csv', index=False)"
   ]
  },
  {
   "cell_type": "code",
   "execution_count": 65,
   "id": "4fcec4af-2986-4d29-8dd4-0a4c2fcd3136",
   "metadata": {},
   "outputs": [
    {
     "data": {
      "text/plain": [
       "age\n",
       "2    3000\n",
       "1    2000\n",
       "3    2000\n",
       "0    1200\n",
       "Name: count, dtype: int64"
      ]
     },
     "execution_count": 65,
     "metadata": {},
     "output_type": "execute_result"
    }
   ],
   "source": [
    "data.age.value_counts()"
   ]
  },
  {
   "cell_type": "markdown",
   "id": "e521499d-9411-4f00-8422-d22770f76fd2",
   "metadata": {},
   "source": [
    "# Classificadores base"
   ]
  },
  {
   "cell_type": "markdown",
   "id": "a2b88e54-7df3-4006-a39a-f1f338a0b8af",
   "metadata": {},
   "source": [
    "### Leitura dos resultados da randomized search"
   ]
  },
  {
   "cell_type": "code",
   "execution_count": 7,
   "id": "25fa361d-ba61-43d8-b0c6-5d9df8b289d7",
   "metadata": {},
   "outputs": [],
   "source": [
    "text = pd.read_csv('../classificador-texto/nb-texto-1000.csv')\n",
    "pos = pd.read_csv('../classificador-pos-tag/nb-pos-tag-1000.csv')\n",
    "pont_acent = pd.read_csv('../classificador-pont-acent/nb-pont-acent-1000.csv')"
   ]
  },
  {
   "cell_type": "markdown",
   "id": "635d3285-28a2-4043-a807-80531588bdb6",
   "metadata": {},
   "source": [
    "### Classificador de texto"
   ]
  },
  {
   "cell_type": "code",
   "execution_count": 8,
   "id": "2876e62c-6aa2-42ee-b48a-3ed8873a1630",
   "metadata": {},
   "outputs": [
    {
     "data": {
      "text/plain": [
       "\"{'vect__ngram_range': (1, 3), 'selection__percentile': 100, 'estimator__fit_prior': False, 'estimator__alpha': 0.3}\""
      ]
     },
     "execution_count": 8,
     "metadata": {},
     "output_type": "execute_result"
    }
   ],
   "source": [
    "text.melhores_parametros.iloc[0]"
   ]
  },
  {
   "cell_type": "code",
   "execution_count": 9,
   "id": "ace9e9fd-b518-480f-835d-4c56c19a256f",
   "metadata": {},
   "outputs": [],
   "source": [
    "best_params = {'vect__ngram_range': (1, 3),\n",
    "               'selection__percentile': 100,\n",
    "               'estimator__fit_prior': False,\n",
    "               'estimator__alpha': 0.3}"
   ]
  },
  {
   "cell_type": "code",
   "execution_count": 10,
   "id": "9453c67f-9cc8-4765-b6c8-7f0effa5c37a",
   "metadata": {},
   "outputs": [],
   "source": [
    "pipeline = Pipeline([\n",
    "                ('vect', TfidfVectorizer()),\n",
    "                ('scaling', MaxAbsScaler()), \n",
    "                ('selection', SelectPercentile()),\n",
    "                ('estimator', MultinomialNB())\n",
    "                ])"
   ]
  },
  {
   "cell_type": "code",
   "execution_count": 11,
   "id": "e943731d-af68-43df-909f-ee1b3fd8dabc",
   "metadata": {},
   "outputs": [],
   "source": [
    "text_clf = pipeline.set_params(**best_params)"
   ]
  },
  {
   "cell_type": "code",
   "execution_count": 12,
   "id": "4c8d7270-fa78-4bb1-8ef9-48f4e458c6ae",
   "metadata": {},
   "outputs": [
    {
     "data": {
      "text/plain": [
       "<bound method Pipeline.get_params of Pipeline(steps=[('vect', TfidfVectorizer(ngram_range=(1, 3))),\n",
       "                ('scaling', MaxAbsScaler()),\n",
       "                ('selection', SelectPercentile(percentile=100)),\n",
       "                ('estimator', MultinomialNB(alpha=0.3, fit_prior=False))])>"
      ]
     },
     "execution_count": 12,
     "metadata": {},
     "output_type": "execute_result"
    }
   ],
   "source": [
    "text_clf.get_params"
   ]
  },
  {
   "cell_type": "code",
   "execution_count": 13,
   "id": "f9fc4fc7-d089-4ef0-8b1e-283a5c802608",
   "metadata": {},
   "outputs": [],
   "source": [
    "# a seguir os dados serão divididos entre features (X) e label (y)\n",
    "X_text = data['req_text'] # features\n",
    "y = data['age'] # label"
   ]
  },
  {
   "cell_type": "code",
   "execution_count": 14,
   "id": "a07597d8-960c-4214-929a-ab9019eb3743",
   "metadata": {},
   "outputs": [],
   "source": [
    "X_train_text, X_test_text, y_train, y_test = train_test_split(X_text, y, test_size=0.2, random_state=42,\n",
    "                                                   stratify=y)"
   ]
  },
  {
   "cell_type": "code",
   "execution_count": 15,
   "id": "0683fd6c-219c-46dd-a9c8-269be24e7c21",
   "metadata": {},
   "outputs": [
    {
     "data": {
      "text/html": [
       "<style>#sk-9b8ad238-104a-4cf9-b38f-41727d196a23 {color: black;background-color: white;}#sk-9b8ad238-104a-4cf9-b38f-41727d196a23 pre{padding: 0;}#sk-9b8ad238-104a-4cf9-b38f-41727d196a23 div.sk-toggleable {background-color: white;}#sk-9b8ad238-104a-4cf9-b38f-41727d196a23 label.sk-toggleable__label {cursor: pointer;display: block;width: 100%;margin-bottom: 0;padding: 0.3em;box-sizing: border-box;text-align: center;}#sk-9b8ad238-104a-4cf9-b38f-41727d196a23 label.sk-toggleable__label-arrow:before {content: \"▸\";float: left;margin-right: 0.25em;color: #696969;}#sk-9b8ad238-104a-4cf9-b38f-41727d196a23 label.sk-toggleable__label-arrow:hover:before {color: black;}#sk-9b8ad238-104a-4cf9-b38f-41727d196a23 div.sk-estimator:hover label.sk-toggleable__label-arrow:before {color: black;}#sk-9b8ad238-104a-4cf9-b38f-41727d196a23 div.sk-toggleable__content {max-height: 0;max-width: 0;overflow: hidden;text-align: left;background-color: #f0f8ff;}#sk-9b8ad238-104a-4cf9-b38f-41727d196a23 div.sk-toggleable__content pre {margin: 0.2em;color: black;border-radius: 0.25em;background-color: #f0f8ff;}#sk-9b8ad238-104a-4cf9-b38f-41727d196a23 input.sk-toggleable__control:checked~div.sk-toggleable__content {max-height: 200px;max-width: 100%;overflow: auto;}#sk-9b8ad238-104a-4cf9-b38f-41727d196a23 input.sk-toggleable__control:checked~label.sk-toggleable__label-arrow:before {content: \"▾\";}#sk-9b8ad238-104a-4cf9-b38f-41727d196a23 div.sk-estimator input.sk-toggleable__control:checked~label.sk-toggleable__label {background-color: #d4ebff;}#sk-9b8ad238-104a-4cf9-b38f-41727d196a23 div.sk-label input.sk-toggleable__control:checked~label.sk-toggleable__label {background-color: #d4ebff;}#sk-9b8ad238-104a-4cf9-b38f-41727d196a23 input.sk-hidden--visually {border: 0;clip: rect(1px 1px 1px 1px);clip: rect(1px, 1px, 1px, 1px);height: 1px;margin: -1px;overflow: hidden;padding: 0;position: absolute;width: 1px;}#sk-9b8ad238-104a-4cf9-b38f-41727d196a23 div.sk-estimator {font-family: monospace;background-color: #f0f8ff;border: 1px dotted black;border-radius: 0.25em;box-sizing: border-box;margin-bottom: 0.5em;}#sk-9b8ad238-104a-4cf9-b38f-41727d196a23 div.sk-estimator:hover {background-color: #d4ebff;}#sk-9b8ad238-104a-4cf9-b38f-41727d196a23 div.sk-parallel-item::after {content: \"\";width: 100%;border-bottom: 1px solid gray;flex-grow: 1;}#sk-9b8ad238-104a-4cf9-b38f-41727d196a23 div.sk-label:hover label.sk-toggleable__label {background-color: #d4ebff;}#sk-9b8ad238-104a-4cf9-b38f-41727d196a23 div.sk-serial::before {content: \"\";position: absolute;border-left: 1px solid gray;box-sizing: border-box;top: 2em;bottom: 0;left: 50%;}#sk-9b8ad238-104a-4cf9-b38f-41727d196a23 div.sk-serial {display: flex;flex-direction: column;align-items: center;background-color: white;padding-right: 0.2em;padding-left: 0.2em;}#sk-9b8ad238-104a-4cf9-b38f-41727d196a23 div.sk-item {z-index: 1;}#sk-9b8ad238-104a-4cf9-b38f-41727d196a23 div.sk-parallel {display: flex;align-items: stretch;justify-content: center;background-color: white;}#sk-9b8ad238-104a-4cf9-b38f-41727d196a23 div.sk-parallel::before {content: \"\";position: absolute;border-left: 1px solid gray;box-sizing: border-box;top: 2em;bottom: 0;left: 50%;}#sk-9b8ad238-104a-4cf9-b38f-41727d196a23 div.sk-parallel-item {display: flex;flex-direction: column;position: relative;background-color: white;}#sk-9b8ad238-104a-4cf9-b38f-41727d196a23 div.sk-parallel-item:first-child::after {align-self: flex-end;width: 50%;}#sk-9b8ad238-104a-4cf9-b38f-41727d196a23 div.sk-parallel-item:last-child::after {align-self: flex-start;width: 50%;}#sk-9b8ad238-104a-4cf9-b38f-41727d196a23 div.sk-parallel-item:only-child::after {width: 0;}#sk-9b8ad238-104a-4cf9-b38f-41727d196a23 div.sk-dashed-wrapped {border: 1px dashed gray;margin: 0 0.4em 0.5em 0.4em;box-sizing: border-box;padding-bottom: 0.4em;background-color: white;position: relative;}#sk-9b8ad238-104a-4cf9-b38f-41727d196a23 div.sk-label label {font-family: monospace;font-weight: bold;background-color: white;display: inline-block;line-height: 1.2em;}#sk-9b8ad238-104a-4cf9-b38f-41727d196a23 div.sk-label-container {position: relative;z-index: 2;text-align: center;}#sk-9b8ad238-104a-4cf9-b38f-41727d196a23 div.sk-container {/* jupyter's `normalize.less` sets `[hidden] { display: none; }` but bootstrap.min.css set `[hidden] { display: none !important; }` so we also need the `!important` here to be able to override the default hidden behavior on the sphinx rendered scikit-learn.org. See: https://github.com/scikit-learn/scikit-learn/issues/21755 */display: inline-block !important;position: relative;}#sk-9b8ad238-104a-4cf9-b38f-41727d196a23 div.sk-text-repr-fallback {display: none;}</style><div id=\"sk-9b8ad238-104a-4cf9-b38f-41727d196a23\" class=\"sk-top-container\"><div class=\"sk-text-repr-fallback\"><pre>Pipeline(steps=[(&#x27;vect&#x27;, TfidfVectorizer(ngram_range=(1, 3))),\n",
       "                (&#x27;scaling&#x27;, MaxAbsScaler()),\n",
       "                (&#x27;selection&#x27;, SelectPercentile(percentile=100)),\n",
       "                (&#x27;estimator&#x27;, MultinomialNB(alpha=0.3, fit_prior=False))])</pre><b>Please rerun this cell to show the HTML repr or trust the notebook.</b></div><div class=\"sk-container\" hidden><div class=\"sk-item sk-dashed-wrapped\"><div class=\"sk-label-container\"><div class=\"sk-label sk-toggleable\"><input class=\"sk-toggleable__control sk-hidden--visually\" id=\"776838ad-2e5a-4234-83bc-3806bc1390cf\" type=\"checkbox\" ><label for=\"776838ad-2e5a-4234-83bc-3806bc1390cf\" class=\"sk-toggleable__label sk-toggleable__label-arrow\">Pipeline</label><div class=\"sk-toggleable__content\"><pre>Pipeline(steps=[(&#x27;vect&#x27;, TfidfVectorizer(ngram_range=(1, 3))),\n",
       "                (&#x27;scaling&#x27;, MaxAbsScaler()),\n",
       "                (&#x27;selection&#x27;, SelectPercentile(percentile=100)),\n",
       "                (&#x27;estimator&#x27;, MultinomialNB(alpha=0.3, fit_prior=False))])</pre></div></div></div><div class=\"sk-serial\"><div class=\"sk-item\"><div class=\"sk-estimator sk-toggleable\"><input class=\"sk-toggleable__control sk-hidden--visually\" id=\"6f83831a-8fc6-4f0c-a1a0-4df6b05e3e51\" type=\"checkbox\" ><label for=\"6f83831a-8fc6-4f0c-a1a0-4df6b05e3e51\" class=\"sk-toggleable__label sk-toggleable__label-arrow\">TfidfVectorizer</label><div class=\"sk-toggleable__content\"><pre>TfidfVectorizer(ngram_range=(1, 3))</pre></div></div></div><div class=\"sk-item\"><div class=\"sk-estimator sk-toggleable\"><input class=\"sk-toggleable__control sk-hidden--visually\" id=\"4582b85e-bbf7-42bf-bebb-169107b0fd76\" type=\"checkbox\" ><label for=\"4582b85e-bbf7-42bf-bebb-169107b0fd76\" class=\"sk-toggleable__label sk-toggleable__label-arrow\">MaxAbsScaler</label><div class=\"sk-toggleable__content\"><pre>MaxAbsScaler()</pre></div></div></div><div class=\"sk-item\"><div class=\"sk-estimator sk-toggleable\"><input class=\"sk-toggleable__control sk-hidden--visually\" id=\"37b5b5be-38a8-42f4-a6c4-2a7839a29b01\" type=\"checkbox\" ><label for=\"37b5b5be-38a8-42f4-a6c4-2a7839a29b01\" class=\"sk-toggleable__label sk-toggleable__label-arrow\">SelectPercentile</label><div class=\"sk-toggleable__content\"><pre>SelectPercentile(percentile=100)</pre></div></div></div><div class=\"sk-item\"><div class=\"sk-estimator sk-toggleable\"><input class=\"sk-toggleable__control sk-hidden--visually\" id=\"4ef7cc6e-1afb-4763-ad1a-b2cfc00de334\" type=\"checkbox\" ><label for=\"4ef7cc6e-1afb-4763-ad1a-b2cfc00de334\" class=\"sk-toggleable__label sk-toggleable__label-arrow\">MultinomialNB</label><div class=\"sk-toggleable__content\"><pre>MultinomialNB(alpha=0.3, fit_prior=False)</pre></div></div></div></div></div></div></div>"
      ],
      "text/plain": [
       "Pipeline(steps=[('vect', TfidfVectorizer(ngram_range=(1, 3))),\n",
       "                ('scaling', MaxAbsScaler()),\n",
       "                ('selection', SelectPercentile(percentile=100)),\n",
       "                ('estimator', MultinomialNB(alpha=0.3, fit_prior=False))])"
      ]
     },
     "execution_count": 15,
     "metadata": {},
     "output_type": "execute_result"
    }
   ],
   "source": [
    "text_clf.fit(X_train_text, y_train)"
   ]
  },
  {
   "cell_type": "code",
   "execution_count": null,
   "id": "4ffb8841-87f0-414f-b351-a2cf7535c2cd",
   "metadata": {},
   "outputs": [],
   "source": [
    "text_clf.predict_proba(X_test_pos)"
   ]
  },
  {
   "cell_type": "markdown",
   "id": "589b4be1-3fe0-45a3-8eef-17442e8c1472",
   "metadata": {},
   "source": [
    "### Pos Tag"
   ]
  },
  {
   "cell_type": "code",
   "execution_count": 17,
   "id": "2458d9fb-e202-4616-9f1f-8f92d4b3d4a1",
   "metadata": {},
   "outputs": [
    {
     "data": {
      "text/plain": [
       "\"{'vect__ngram_range': (3, 4), 'selection__percentile': 100, 'estimator__fit_prior': False, 'estimator__alpha': 0.3}\""
      ]
     },
     "execution_count": 17,
     "metadata": {},
     "output_type": "execute_result"
    }
   ],
   "source": [
    "pos.melhores_parametros.iloc[0]"
   ]
  },
  {
   "cell_type": "code",
   "execution_count": 18,
   "id": "acfa4cf9-22d3-492c-834e-821f8277bc9c",
   "metadata": {},
   "outputs": [],
   "source": [
    "best_params = {'vect__ngram_range': (3, 4),\n",
    "               'selection__percentile': 100,\n",
    "               'estimator__fit_prior': False,\n",
    "               'estimator__alpha': 0.3}"
   ]
  },
  {
   "cell_type": "code",
   "execution_count": 19,
   "id": "cdcd52cc-c7d9-4532-bd81-b124b345c12c",
   "metadata": {},
   "outputs": [],
   "source": [
    "pipeline = Pipeline([\n",
    "                ('vect', TfidfVectorizer()),\n",
    "                ('scaling', MaxAbsScaler()), \n",
    "                ('selection', SelectPercentile()),\n",
    "                ('estimator', MultinomialNB())\n",
    "                ])"
   ]
  },
  {
   "cell_type": "code",
   "execution_count": 20,
   "id": "9bbf6ef7-da82-4298-bd5f-6f9690092d08",
   "metadata": {},
   "outputs": [],
   "source": [
    "pos_clf = pipeline.set_params(**best_params)"
   ]
  },
  {
   "cell_type": "code",
   "execution_count": 21,
   "id": "aaa776f5-316f-458f-ada0-b38f6b3bb714",
   "metadata": {},
   "outputs": [
    {
     "data": {
      "text/plain": [
       "<bound method Pipeline.get_params of Pipeline(steps=[('vect', TfidfVectorizer(ngram_range=(3, 4))),\n",
       "                ('scaling', MaxAbsScaler()),\n",
       "                ('selection', SelectPercentile(percentile=100)),\n",
       "                ('estimator', MultinomialNB(alpha=0.3, fit_prior=False))])>"
      ]
     },
     "execution_count": 21,
     "metadata": {},
     "output_type": "execute_result"
    }
   ],
   "source": [
    "pos_clf.get_params"
   ]
  },
  {
   "cell_type": "code",
   "execution_count": 22,
   "id": "c267b847-8092-4fc3-8266-65e7424e5c6a",
   "metadata": {},
   "outputs": [],
   "source": [
    "# a seguir os dados serão divididos entre features (X) e label (y)\n",
    "X_pos = data['pos'] # features\n",
    "y = data['age'] # label"
   ]
  },
  {
   "cell_type": "code",
   "execution_count": 23,
   "id": "b6268dfc-160d-4361-97b7-1eb7c887e0cb",
   "metadata": {},
   "outputs": [],
   "source": [
    "X_train_pos, X_test_pos, y_train, y_test = train_test_split(X_pos, y, test_size=0.2, random_state=42,\n",
    "                                                   stratify=y)"
   ]
  },
  {
   "cell_type": "code",
   "execution_count": 24,
   "id": "61f97b62-3df2-446a-8944-55f245419c1b",
   "metadata": {},
   "outputs": [
    {
     "data": {
      "text/html": [
       "<style>#sk-a7d5bc14-ab44-4948-b0b6-f992bbd807c6 {color: black;background-color: white;}#sk-a7d5bc14-ab44-4948-b0b6-f992bbd807c6 pre{padding: 0;}#sk-a7d5bc14-ab44-4948-b0b6-f992bbd807c6 div.sk-toggleable {background-color: white;}#sk-a7d5bc14-ab44-4948-b0b6-f992bbd807c6 label.sk-toggleable__label {cursor: pointer;display: block;width: 100%;margin-bottom: 0;padding: 0.3em;box-sizing: border-box;text-align: center;}#sk-a7d5bc14-ab44-4948-b0b6-f992bbd807c6 label.sk-toggleable__label-arrow:before {content: \"▸\";float: left;margin-right: 0.25em;color: #696969;}#sk-a7d5bc14-ab44-4948-b0b6-f992bbd807c6 label.sk-toggleable__label-arrow:hover:before {color: black;}#sk-a7d5bc14-ab44-4948-b0b6-f992bbd807c6 div.sk-estimator:hover label.sk-toggleable__label-arrow:before {color: black;}#sk-a7d5bc14-ab44-4948-b0b6-f992bbd807c6 div.sk-toggleable__content {max-height: 0;max-width: 0;overflow: hidden;text-align: left;background-color: #f0f8ff;}#sk-a7d5bc14-ab44-4948-b0b6-f992bbd807c6 div.sk-toggleable__content pre {margin: 0.2em;color: black;border-radius: 0.25em;background-color: #f0f8ff;}#sk-a7d5bc14-ab44-4948-b0b6-f992bbd807c6 input.sk-toggleable__control:checked~div.sk-toggleable__content {max-height: 200px;max-width: 100%;overflow: auto;}#sk-a7d5bc14-ab44-4948-b0b6-f992bbd807c6 input.sk-toggleable__control:checked~label.sk-toggleable__label-arrow:before {content: \"▾\";}#sk-a7d5bc14-ab44-4948-b0b6-f992bbd807c6 div.sk-estimator input.sk-toggleable__control:checked~label.sk-toggleable__label {background-color: #d4ebff;}#sk-a7d5bc14-ab44-4948-b0b6-f992bbd807c6 div.sk-label input.sk-toggleable__control:checked~label.sk-toggleable__label {background-color: #d4ebff;}#sk-a7d5bc14-ab44-4948-b0b6-f992bbd807c6 input.sk-hidden--visually {border: 0;clip: rect(1px 1px 1px 1px);clip: rect(1px, 1px, 1px, 1px);height: 1px;margin: -1px;overflow: hidden;padding: 0;position: absolute;width: 1px;}#sk-a7d5bc14-ab44-4948-b0b6-f992bbd807c6 div.sk-estimator {font-family: monospace;background-color: #f0f8ff;border: 1px dotted black;border-radius: 0.25em;box-sizing: border-box;margin-bottom: 0.5em;}#sk-a7d5bc14-ab44-4948-b0b6-f992bbd807c6 div.sk-estimator:hover {background-color: #d4ebff;}#sk-a7d5bc14-ab44-4948-b0b6-f992bbd807c6 div.sk-parallel-item::after {content: \"\";width: 100%;border-bottom: 1px solid gray;flex-grow: 1;}#sk-a7d5bc14-ab44-4948-b0b6-f992bbd807c6 div.sk-label:hover label.sk-toggleable__label {background-color: #d4ebff;}#sk-a7d5bc14-ab44-4948-b0b6-f992bbd807c6 div.sk-serial::before {content: \"\";position: absolute;border-left: 1px solid gray;box-sizing: border-box;top: 2em;bottom: 0;left: 50%;}#sk-a7d5bc14-ab44-4948-b0b6-f992bbd807c6 div.sk-serial {display: flex;flex-direction: column;align-items: center;background-color: white;padding-right: 0.2em;padding-left: 0.2em;}#sk-a7d5bc14-ab44-4948-b0b6-f992bbd807c6 div.sk-item {z-index: 1;}#sk-a7d5bc14-ab44-4948-b0b6-f992bbd807c6 div.sk-parallel {display: flex;align-items: stretch;justify-content: center;background-color: white;}#sk-a7d5bc14-ab44-4948-b0b6-f992bbd807c6 div.sk-parallel::before {content: \"\";position: absolute;border-left: 1px solid gray;box-sizing: border-box;top: 2em;bottom: 0;left: 50%;}#sk-a7d5bc14-ab44-4948-b0b6-f992bbd807c6 div.sk-parallel-item {display: flex;flex-direction: column;position: relative;background-color: white;}#sk-a7d5bc14-ab44-4948-b0b6-f992bbd807c6 div.sk-parallel-item:first-child::after {align-self: flex-end;width: 50%;}#sk-a7d5bc14-ab44-4948-b0b6-f992bbd807c6 div.sk-parallel-item:last-child::after {align-self: flex-start;width: 50%;}#sk-a7d5bc14-ab44-4948-b0b6-f992bbd807c6 div.sk-parallel-item:only-child::after {width: 0;}#sk-a7d5bc14-ab44-4948-b0b6-f992bbd807c6 div.sk-dashed-wrapped {border: 1px dashed gray;margin: 0 0.4em 0.5em 0.4em;box-sizing: border-box;padding-bottom: 0.4em;background-color: white;position: relative;}#sk-a7d5bc14-ab44-4948-b0b6-f992bbd807c6 div.sk-label label {font-family: monospace;font-weight: bold;background-color: white;display: inline-block;line-height: 1.2em;}#sk-a7d5bc14-ab44-4948-b0b6-f992bbd807c6 div.sk-label-container {position: relative;z-index: 2;text-align: center;}#sk-a7d5bc14-ab44-4948-b0b6-f992bbd807c6 div.sk-container {/* jupyter's `normalize.less` sets `[hidden] { display: none; }` but bootstrap.min.css set `[hidden] { display: none !important; }` so we also need the `!important` here to be able to override the default hidden behavior on the sphinx rendered scikit-learn.org. See: https://github.com/scikit-learn/scikit-learn/issues/21755 */display: inline-block !important;position: relative;}#sk-a7d5bc14-ab44-4948-b0b6-f992bbd807c6 div.sk-text-repr-fallback {display: none;}</style><div id=\"sk-a7d5bc14-ab44-4948-b0b6-f992bbd807c6\" class=\"sk-top-container\"><div class=\"sk-text-repr-fallback\"><pre>Pipeline(steps=[(&#x27;vect&#x27;, TfidfVectorizer(ngram_range=(3, 4))),\n",
       "                (&#x27;scaling&#x27;, MaxAbsScaler()),\n",
       "                (&#x27;selection&#x27;, SelectPercentile(percentile=100)),\n",
       "                (&#x27;estimator&#x27;, MultinomialNB(alpha=0.3, fit_prior=False))])</pre><b>Please rerun this cell to show the HTML repr or trust the notebook.</b></div><div class=\"sk-container\" hidden><div class=\"sk-item sk-dashed-wrapped\"><div class=\"sk-label-container\"><div class=\"sk-label sk-toggleable\"><input class=\"sk-toggleable__control sk-hidden--visually\" id=\"5a838746-a2e5-44f1-890a-31ae15bfbffd\" type=\"checkbox\" ><label for=\"5a838746-a2e5-44f1-890a-31ae15bfbffd\" class=\"sk-toggleable__label sk-toggleable__label-arrow\">Pipeline</label><div class=\"sk-toggleable__content\"><pre>Pipeline(steps=[(&#x27;vect&#x27;, TfidfVectorizer(ngram_range=(3, 4))),\n",
       "                (&#x27;scaling&#x27;, MaxAbsScaler()),\n",
       "                (&#x27;selection&#x27;, SelectPercentile(percentile=100)),\n",
       "                (&#x27;estimator&#x27;, MultinomialNB(alpha=0.3, fit_prior=False))])</pre></div></div></div><div class=\"sk-serial\"><div class=\"sk-item\"><div class=\"sk-estimator sk-toggleable\"><input class=\"sk-toggleable__control sk-hidden--visually\" id=\"400c0266-4c63-4d77-b289-f640d9e8fc09\" type=\"checkbox\" ><label for=\"400c0266-4c63-4d77-b289-f640d9e8fc09\" class=\"sk-toggleable__label sk-toggleable__label-arrow\">TfidfVectorizer</label><div class=\"sk-toggleable__content\"><pre>TfidfVectorizer(ngram_range=(3, 4))</pre></div></div></div><div class=\"sk-item\"><div class=\"sk-estimator sk-toggleable\"><input class=\"sk-toggleable__control sk-hidden--visually\" id=\"3abf331c-0689-45cb-9c9c-66dd28f739f0\" type=\"checkbox\" ><label for=\"3abf331c-0689-45cb-9c9c-66dd28f739f0\" class=\"sk-toggleable__label sk-toggleable__label-arrow\">MaxAbsScaler</label><div class=\"sk-toggleable__content\"><pre>MaxAbsScaler()</pre></div></div></div><div class=\"sk-item\"><div class=\"sk-estimator sk-toggleable\"><input class=\"sk-toggleable__control sk-hidden--visually\" id=\"7d5427b1-e90a-40b4-8d48-00c49ecbec06\" type=\"checkbox\" ><label for=\"7d5427b1-e90a-40b4-8d48-00c49ecbec06\" class=\"sk-toggleable__label sk-toggleable__label-arrow\">SelectPercentile</label><div class=\"sk-toggleable__content\"><pre>SelectPercentile(percentile=100)</pre></div></div></div><div class=\"sk-item\"><div class=\"sk-estimator sk-toggleable\"><input class=\"sk-toggleable__control sk-hidden--visually\" id=\"f8950437-3e15-45e8-8d10-7af35bc1d171\" type=\"checkbox\" ><label for=\"f8950437-3e15-45e8-8d10-7af35bc1d171\" class=\"sk-toggleable__label sk-toggleable__label-arrow\">MultinomialNB</label><div class=\"sk-toggleable__content\"><pre>MultinomialNB(alpha=0.3, fit_prior=False)</pre></div></div></div></div></div></div></div>"
      ],
      "text/plain": [
       "Pipeline(steps=[('vect', TfidfVectorizer(ngram_range=(3, 4))),\n",
       "                ('scaling', MaxAbsScaler()),\n",
       "                ('selection', SelectPercentile(percentile=100)),\n",
       "                ('estimator', MultinomialNB(alpha=0.3, fit_prior=False))])"
      ]
     },
     "execution_count": 24,
     "metadata": {},
     "output_type": "execute_result"
    }
   ],
   "source": [
    "pos_clf.fit(X_train_pos, y_train)"
   ]
  },
  {
   "cell_type": "code",
   "execution_count": 25,
   "id": "394e54f7-62c4-4756-914b-d8dceb33f0b7",
   "metadata": {},
   "outputs": [
    {
     "data": {
      "text/plain": [
       "array([[9.22469104e-05, 9.44865217e-01, 1.37762886e-02, 4.12662475e-02],\n",
       "       [1.86610370e-04, 9.67334002e-01, 3.09643962e-02, 1.51499113e-03],\n",
       "       [1.99680879e-01, 7.59782683e-01, 2.86458274e-02, 1.18906111e-02],\n",
       "       ...,\n",
       "       [9.97664112e-01, 3.70178368e-04, 1.85995937e-03, 1.05750289e-04],\n",
       "       [3.46641760e-02, 9.64791837e-01, 5.37314501e-04, 6.67233642e-06],\n",
       "       [3.90804827e-06, 1.56749276e-05, 9.42839393e-05, 9.99886133e-01]])"
      ]
     },
     "execution_count": 25,
     "metadata": {},
     "output_type": "execute_result"
    }
   ],
   "source": [
    "pos_clf.predict_proba(X_test_pos)"
   ]
  },
  {
   "cell_type": "markdown",
   "id": "852386db-a78d-4fd6-9dc6-df69be11c0a6",
   "metadata": {},
   "source": [
    "### Pontuação e Acentuação"
   ]
  },
  {
   "cell_type": "code",
   "execution_count": 26,
   "id": "8e962990-fa8a-4d37-936f-0bdaf57102b3",
   "metadata": {},
   "outputs": [
    {
     "data": {
      "text/plain": [
       "\"{'vect__ngram_range': (5, 6), 'vect__analyzer': 'char', 'selection__percentile': 66, 'estimator__fit_prior': False, 'estimator__alpha': 0.02}\""
      ]
     },
     "execution_count": 26,
     "metadata": {},
     "output_type": "execute_result"
    }
   ],
   "source": [
    "pont_acent.melhores_parametros.iloc[0]"
   ]
  },
  {
   "cell_type": "code",
   "execution_count": 27,
   "id": "60604a81-293b-4124-8971-4663a8aa6d00",
   "metadata": {},
   "outputs": [],
   "source": [
    "best_params = {'vect__ngram_range': (5, 6),\n",
    "               'vect__analyzer': 'char',\n",
    "               'estimator__fit_prior': False,\n",
    "               'estimator__alpha': 0.02}"
   ]
  },
  {
   "cell_type": "code",
   "execution_count": 28,
   "id": "b2d010c1-2ede-43fa-bc9e-a3a9dad0dff9",
   "metadata": {},
   "outputs": [],
   "source": [
    "pipeline = Pipeline([\n",
    "                ('vect', TfidfVectorizer()),\n",
    "                ('scaling', MaxAbsScaler()), \n",
    "                ('selection', SelectPercentile()),\n",
    "                ('estimator', MultinomialNB())\n",
    "                ])"
   ]
  },
  {
   "cell_type": "code",
   "execution_count": 29,
   "id": "76f982f6-0db2-4c9d-bc46-6d02bf28711a",
   "metadata": {},
   "outputs": [],
   "source": [
    "pa_clf = pipeline.set_params(**best_params)"
   ]
  },
  {
   "cell_type": "code",
   "execution_count": 30,
   "id": "89367d40-4dcf-4aff-8e19-7d5af74471be",
   "metadata": {},
   "outputs": [
    {
     "data": {
      "text/plain": [
       "<bound method Pipeline.get_params of Pipeline(steps=[('vect', TfidfVectorizer(analyzer='char', ngram_range=(5, 6))),\n",
       "                ('scaling', MaxAbsScaler()), ('selection', SelectPercentile()),\n",
       "                ('estimator', MultinomialNB(alpha=0.02, fit_prior=False))])>"
      ]
     },
     "execution_count": 30,
     "metadata": {},
     "output_type": "execute_result"
    }
   ],
   "source": [
    "pa_clf.get_params"
   ]
  },
  {
   "cell_type": "code",
   "execution_count": 31,
   "id": "e24b5155-ece4-4155-a658-8de5f6835194",
   "metadata": {},
   "outputs": [],
   "source": [
    "# a seguir os dados serão divididos entre features (X) e label (y)\n",
    "X_pa = data['distorted_text'] # features\n",
    "y = data['age'] # label"
   ]
  },
  {
   "cell_type": "code",
   "execution_count": 32,
   "id": "5daf560c-6308-4bf4-ba87-42e643d9289c",
   "metadata": {},
   "outputs": [],
   "source": [
    "X_train_pa, X_test_pa, y_train, y_test = train_test_split(X_pa, y, test_size=0.2, random_state=42,\n",
    "                                                   stratify=y)"
   ]
  },
  {
   "cell_type": "code",
   "execution_count": 33,
   "id": "c7c15253-599c-4140-9754-16646e5d31e9",
   "metadata": {},
   "outputs": [
    {
     "data": {
      "text/html": [
       "<style>#sk-ffbf7908-89fb-4fd7-8d25-59ab09acf0ac {color: black;background-color: white;}#sk-ffbf7908-89fb-4fd7-8d25-59ab09acf0ac pre{padding: 0;}#sk-ffbf7908-89fb-4fd7-8d25-59ab09acf0ac div.sk-toggleable {background-color: white;}#sk-ffbf7908-89fb-4fd7-8d25-59ab09acf0ac label.sk-toggleable__label {cursor: pointer;display: block;width: 100%;margin-bottom: 0;padding: 0.3em;box-sizing: border-box;text-align: center;}#sk-ffbf7908-89fb-4fd7-8d25-59ab09acf0ac label.sk-toggleable__label-arrow:before {content: \"▸\";float: left;margin-right: 0.25em;color: #696969;}#sk-ffbf7908-89fb-4fd7-8d25-59ab09acf0ac label.sk-toggleable__label-arrow:hover:before {color: black;}#sk-ffbf7908-89fb-4fd7-8d25-59ab09acf0ac div.sk-estimator:hover label.sk-toggleable__label-arrow:before {color: black;}#sk-ffbf7908-89fb-4fd7-8d25-59ab09acf0ac div.sk-toggleable__content {max-height: 0;max-width: 0;overflow: hidden;text-align: left;background-color: #f0f8ff;}#sk-ffbf7908-89fb-4fd7-8d25-59ab09acf0ac div.sk-toggleable__content pre {margin: 0.2em;color: black;border-radius: 0.25em;background-color: #f0f8ff;}#sk-ffbf7908-89fb-4fd7-8d25-59ab09acf0ac input.sk-toggleable__control:checked~div.sk-toggleable__content {max-height: 200px;max-width: 100%;overflow: auto;}#sk-ffbf7908-89fb-4fd7-8d25-59ab09acf0ac input.sk-toggleable__control:checked~label.sk-toggleable__label-arrow:before {content: \"▾\";}#sk-ffbf7908-89fb-4fd7-8d25-59ab09acf0ac div.sk-estimator input.sk-toggleable__control:checked~label.sk-toggleable__label {background-color: #d4ebff;}#sk-ffbf7908-89fb-4fd7-8d25-59ab09acf0ac div.sk-label input.sk-toggleable__control:checked~label.sk-toggleable__label {background-color: #d4ebff;}#sk-ffbf7908-89fb-4fd7-8d25-59ab09acf0ac input.sk-hidden--visually {border: 0;clip: rect(1px 1px 1px 1px);clip: rect(1px, 1px, 1px, 1px);height: 1px;margin: -1px;overflow: hidden;padding: 0;position: absolute;width: 1px;}#sk-ffbf7908-89fb-4fd7-8d25-59ab09acf0ac div.sk-estimator {font-family: monospace;background-color: #f0f8ff;border: 1px dotted black;border-radius: 0.25em;box-sizing: border-box;margin-bottom: 0.5em;}#sk-ffbf7908-89fb-4fd7-8d25-59ab09acf0ac div.sk-estimator:hover {background-color: #d4ebff;}#sk-ffbf7908-89fb-4fd7-8d25-59ab09acf0ac div.sk-parallel-item::after {content: \"\";width: 100%;border-bottom: 1px solid gray;flex-grow: 1;}#sk-ffbf7908-89fb-4fd7-8d25-59ab09acf0ac div.sk-label:hover label.sk-toggleable__label {background-color: #d4ebff;}#sk-ffbf7908-89fb-4fd7-8d25-59ab09acf0ac div.sk-serial::before {content: \"\";position: absolute;border-left: 1px solid gray;box-sizing: border-box;top: 2em;bottom: 0;left: 50%;}#sk-ffbf7908-89fb-4fd7-8d25-59ab09acf0ac div.sk-serial {display: flex;flex-direction: column;align-items: center;background-color: white;padding-right: 0.2em;padding-left: 0.2em;}#sk-ffbf7908-89fb-4fd7-8d25-59ab09acf0ac div.sk-item {z-index: 1;}#sk-ffbf7908-89fb-4fd7-8d25-59ab09acf0ac div.sk-parallel {display: flex;align-items: stretch;justify-content: center;background-color: white;}#sk-ffbf7908-89fb-4fd7-8d25-59ab09acf0ac div.sk-parallel::before {content: \"\";position: absolute;border-left: 1px solid gray;box-sizing: border-box;top: 2em;bottom: 0;left: 50%;}#sk-ffbf7908-89fb-4fd7-8d25-59ab09acf0ac div.sk-parallel-item {display: flex;flex-direction: column;position: relative;background-color: white;}#sk-ffbf7908-89fb-4fd7-8d25-59ab09acf0ac div.sk-parallel-item:first-child::after {align-self: flex-end;width: 50%;}#sk-ffbf7908-89fb-4fd7-8d25-59ab09acf0ac div.sk-parallel-item:last-child::after {align-self: flex-start;width: 50%;}#sk-ffbf7908-89fb-4fd7-8d25-59ab09acf0ac div.sk-parallel-item:only-child::after {width: 0;}#sk-ffbf7908-89fb-4fd7-8d25-59ab09acf0ac div.sk-dashed-wrapped {border: 1px dashed gray;margin: 0 0.4em 0.5em 0.4em;box-sizing: border-box;padding-bottom: 0.4em;background-color: white;position: relative;}#sk-ffbf7908-89fb-4fd7-8d25-59ab09acf0ac div.sk-label label {font-family: monospace;font-weight: bold;background-color: white;display: inline-block;line-height: 1.2em;}#sk-ffbf7908-89fb-4fd7-8d25-59ab09acf0ac div.sk-label-container {position: relative;z-index: 2;text-align: center;}#sk-ffbf7908-89fb-4fd7-8d25-59ab09acf0ac div.sk-container {/* jupyter's `normalize.less` sets `[hidden] { display: none; }` but bootstrap.min.css set `[hidden] { display: none !important; }` so we also need the `!important` here to be able to override the default hidden behavior on the sphinx rendered scikit-learn.org. See: https://github.com/scikit-learn/scikit-learn/issues/21755 */display: inline-block !important;position: relative;}#sk-ffbf7908-89fb-4fd7-8d25-59ab09acf0ac div.sk-text-repr-fallback {display: none;}</style><div id=\"sk-ffbf7908-89fb-4fd7-8d25-59ab09acf0ac\" class=\"sk-top-container\"><div class=\"sk-text-repr-fallback\"><pre>Pipeline(steps=[(&#x27;vect&#x27;, TfidfVectorizer(analyzer=&#x27;char&#x27;, ngram_range=(5, 6))),\n",
       "                (&#x27;scaling&#x27;, MaxAbsScaler()), (&#x27;selection&#x27;, SelectPercentile()),\n",
       "                (&#x27;estimator&#x27;, MultinomialNB(alpha=0.02, fit_prior=False))])</pre><b>Please rerun this cell to show the HTML repr or trust the notebook.</b></div><div class=\"sk-container\" hidden><div class=\"sk-item sk-dashed-wrapped\"><div class=\"sk-label-container\"><div class=\"sk-label sk-toggleable\"><input class=\"sk-toggleable__control sk-hidden--visually\" id=\"6b67c745-2ef0-414b-8cae-dd00482da85c\" type=\"checkbox\" ><label for=\"6b67c745-2ef0-414b-8cae-dd00482da85c\" class=\"sk-toggleable__label sk-toggleable__label-arrow\">Pipeline</label><div class=\"sk-toggleable__content\"><pre>Pipeline(steps=[(&#x27;vect&#x27;, TfidfVectorizer(analyzer=&#x27;char&#x27;, ngram_range=(5, 6))),\n",
       "                (&#x27;scaling&#x27;, MaxAbsScaler()), (&#x27;selection&#x27;, SelectPercentile()),\n",
       "                (&#x27;estimator&#x27;, MultinomialNB(alpha=0.02, fit_prior=False))])</pre></div></div></div><div class=\"sk-serial\"><div class=\"sk-item\"><div class=\"sk-estimator sk-toggleable\"><input class=\"sk-toggleable__control sk-hidden--visually\" id=\"9016f6cb-c23c-48e2-8ab4-688f860e22fe\" type=\"checkbox\" ><label for=\"9016f6cb-c23c-48e2-8ab4-688f860e22fe\" class=\"sk-toggleable__label sk-toggleable__label-arrow\">TfidfVectorizer</label><div class=\"sk-toggleable__content\"><pre>TfidfVectorizer(analyzer=&#x27;char&#x27;, ngram_range=(5, 6))</pre></div></div></div><div class=\"sk-item\"><div class=\"sk-estimator sk-toggleable\"><input class=\"sk-toggleable__control sk-hidden--visually\" id=\"0e2edbc7-3d84-48f4-8054-212db11ef6e2\" type=\"checkbox\" ><label for=\"0e2edbc7-3d84-48f4-8054-212db11ef6e2\" class=\"sk-toggleable__label sk-toggleable__label-arrow\">MaxAbsScaler</label><div class=\"sk-toggleable__content\"><pre>MaxAbsScaler()</pre></div></div></div><div class=\"sk-item\"><div class=\"sk-estimator sk-toggleable\"><input class=\"sk-toggleable__control sk-hidden--visually\" id=\"1777554e-5ca8-4de7-a756-9715784956d8\" type=\"checkbox\" ><label for=\"1777554e-5ca8-4de7-a756-9715784956d8\" class=\"sk-toggleable__label sk-toggleable__label-arrow\">SelectPercentile</label><div class=\"sk-toggleable__content\"><pre>SelectPercentile()</pre></div></div></div><div class=\"sk-item\"><div class=\"sk-estimator sk-toggleable\"><input class=\"sk-toggleable__control sk-hidden--visually\" id=\"4ccc60e2-75d8-428a-a9e4-3a554eee1b6f\" type=\"checkbox\" ><label for=\"4ccc60e2-75d8-428a-a9e4-3a554eee1b6f\" class=\"sk-toggleable__label sk-toggleable__label-arrow\">MultinomialNB</label><div class=\"sk-toggleable__content\"><pre>MultinomialNB(alpha=0.02, fit_prior=False)</pre></div></div></div></div></div></div></div>"
      ],
      "text/plain": [
       "Pipeline(steps=[('vect', TfidfVectorizer(analyzer='char', ngram_range=(5, 6))),\n",
       "                ('scaling', MaxAbsScaler()), ('selection', SelectPercentile()),\n",
       "                ('estimator', MultinomialNB(alpha=0.02, fit_prior=False))])"
      ]
     },
     "execution_count": 33,
     "metadata": {},
     "output_type": "execute_result"
    }
   ],
   "source": [
    "pa_clf.fit(X_train_pa, y_train)"
   ]
  },
  {
   "cell_type": "code",
   "execution_count": 35,
   "id": "a2ca85d7-a9f7-4e58-a9a1-10bfd6b6a04f",
   "metadata": {},
   "outputs": [
    {
     "data": {
      "text/plain": [
       "array([[2.25169569e-01, 1.99543414e-01, 1.89622770e-01, 3.85664247e-01],\n",
       "       [3.32250307e-03, 9.95923331e-01, 7.52916652e-04, 1.24881343e-06],\n",
       "       [1.44236894e-01, 1.43186481e-01, 1.87604466e-01, 5.24972158e-01],\n",
       "       ...,\n",
       "       [9.92144172e-01, 6.20399218e-03, 7.74979806e-04, 8.76855946e-04],\n",
       "       [8.92875259e-02, 1.45763731e-01, 1.78434917e-01, 5.86513826e-01],\n",
       "       [3.63860990e-04, 2.28770239e-04, 4.19482846e-02, 9.57459084e-01]])"
      ]
     },
     "execution_count": 35,
     "metadata": {},
     "output_type": "execute_result"
    }
   ],
   "source": [
    "pa_clf.predict_proba(X_test_pa)"
   ]
  },
  {
   "cell_type": "markdown",
   "id": "dd0a7249-6149-4dc2-aea1-e2209df7e97b",
   "metadata": {},
   "source": [
    "# Ensemble Stacking"
   ]
  },
  {
   "cell_type": "markdown",
   "id": "d53cc1fe-0c62-4e45-881f-7d65621ab665",
   "metadata": {},
   "source": [
    "## Criação dos dataframes de probabilidades"
   ]
  },
  {
   "cell_type": "markdown",
   "id": "b8f9c968-c576-44ac-96bb-85c8f1741de0",
   "metadata": {},
   "source": [
    "### Pontuação e acentuação"
   ]
  },
  {
   "cell_type": "code",
   "execution_count": 39,
   "id": "3a336dbb-cfaf-465e-bc43-a3aa3039d0d3",
   "metadata": {},
   "outputs": [
    {
     "data": {
      "text/html": [
       "<div>\n",
       "<style scoped>\n",
       "    .dataframe tbody tr th:only-of-type {\n",
       "        vertical-align: middle;\n",
       "    }\n",
       "\n",
       "    .dataframe tbody tr th {\n",
       "        vertical-align: top;\n",
       "    }\n",
       "\n",
       "    .dataframe thead th {\n",
       "        text-align: right;\n",
       "    }\n",
       "</style>\n",
       "<table border=\"1\" class=\"dataframe\">\n",
       "  <thead>\n",
       "    <tr style=\"text-align: right;\">\n",
       "      <th></th>\n",
       "      <th>prob_a1_pa</th>\n",
       "      <th>prob_a2_pa</th>\n",
       "      <th>prob_a3_pa</th>\n",
       "      <th>prob_a4_pa</th>\n",
       "    </tr>\n",
       "  </thead>\n",
       "  <tbody>\n",
       "    <tr>\n",
       "      <th>0</th>\n",
       "      <td>0.225170</td>\n",
       "      <td>0.199543</td>\n",
       "      <td>0.189623</td>\n",
       "      <td>0.385664</td>\n",
       "    </tr>\n",
       "    <tr>\n",
       "      <th>1</th>\n",
       "      <td>0.003323</td>\n",
       "      <td>0.995923</td>\n",
       "      <td>0.000753</td>\n",
       "      <td>0.000001</td>\n",
       "    </tr>\n",
       "    <tr>\n",
       "      <th>2</th>\n",
       "      <td>0.144237</td>\n",
       "      <td>0.143186</td>\n",
       "      <td>0.187604</td>\n",
       "      <td>0.524972</td>\n",
       "    </tr>\n",
       "    <tr>\n",
       "      <th>3</th>\n",
       "      <td>0.101635</td>\n",
       "      <td>0.852693</td>\n",
       "      <td>0.039000</td>\n",
       "      <td>0.006672</td>\n",
       "    </tr>\n",
       "    <tr>\n",
       "      <th>4</th>\n",
       "      <td>0.757237</td>\n",
       "      <td>0.009545</td>\n",
       "      <td>0.228532</td>\n",
       "      <td>0.004687</td>\n",
       "    </tr>\n",
       "    <tr>\n",
       "      <th>...</th>\n",
       "      <td>...</td>\n",
       "      <td>...</td>\n",
       "      <td>...</td>\n",
       "      <td>...</td>\n",
       "    </tr>\n",
       "    <tr>\n",
       "      <th>1635</th>\n",
       "      <td>0.000309</td>\n",
       "      <td>0.000160</td>\n",
       "      <td>0.039803</td>\n",
       "      <td>0.959727</td>\n",
       "    </tr>\n",
       "    <tr>\n",
       "      <th>1636</th>\n",
       "      <td>0.052646</td>\n",
       "      <td>0.765801</td>\n",
       "      <td>0.154593</td>\n",
       "      <td>0.026961</td>\n",
       "    </tr>\n",
       "    <tr>\n",
       "      <th>1637</th>\n",
       "      <td>0.992144</td>\n",
       "      <td>0.006204</td>\n",
       "      <td>0.000775</td>\n",
       "      <td>0.000877</td>\n",
       "    </tr>\n",
       "    <tr>\n",
       "      <th>1638</th>\n",
       "      <td>0.089288</td>\n",
       "      <td>0.145764</td>\n",
       "      <td>0.178435</td>\n",
       "      <td>0.586514</td>\n",
       "    </tr>\n",
       "    <tr>\n",
       "      <th>1639</th>\n",
       "      <td>0.000364</td>\n",
       "      <td>0.000229</td>\n",
       "      <td>0.041948</td>\n",
       "      <td>0.957459</td>\n",
       "    </tr>\n",
       "  </tbody>\n",
       "</table>\n",
       "<p>1640 rows × 4 columns</p>\n",
       "</div>"
      ],
      "text/plain": [
       "      prob_a1_pa  prob_a2_pa  prob_a3_pa  prob_a4_pa\n",
       "0       0.225170    0.199543    0.189623    0.385664\n",
       "1       0.003323    0.995923    0.000753    0.000001\n",
       "2       0.144237    0.143186    0.187604    0.524972\n",
       "3       0.101635    0.852693    0.039000    0.006672\n",
       "4       0.757237    0.009545    0.228532    0.004687\n",
       "...          ...         ...         ...         ...\n",
       "1635    0.000309    0.000160    0.039803    0.959727\n",
       "1636    0.052646    0.765801    0.154593    0.026961\n",
       "1637    0.992144    0.006204    0.000775    0.000877\n",
       "1638    0.089288    0.145764    0.178435    0.586514\n",
       "1639    0.000364    0.000229    0.041948    0.957459\n",
       "\n",
       "[1640 rows x 4 columns]"
      ]
     },
     "execution_count": 39,
     "metadata": {},
     "output_type": "execute_result"
    }
   ],
   "source": [
    "prob_pa = pd.DataFrame(pa_clf.predict_proba(X_test_pa), columns=['prob_a1_pa', 'prob_a2_pa',\n",
    "                                                                            'prob_a3_pa', 'prob_a4_pa'])\n",
    "\n",
    "prob_pa"
   ]
  },
  {
   "cell_type": "markdown",
   "id": "06c387c9-2260-4fc9-a86b-0f5203f3c561",
   "metadata": {},
   "source": [
    "### Texto"
   ]
  },
  {
   "cell_type": "code",
   "execution_count": 40,
   "id": "4d73bfdf-7536-45cb-8742-c7c405dd0478",
   "metadata": {},
   "outputs": [
    {
     "data": {
      "text/html": [
       "<div>\n",
       "<style scoped>\n",
       "    .dataframe tbody tr th:only-of-type {\n",
       "        vertical-align: middle;\n",
       "    }\n",
       "\n",
       "    .dataframe tbody tr th {\n",
       "        vertical-align: top;\n",
       "    }\n",
       "\n",
       "    .dataframe thead th {\n",
       "        text-align: right;\n",
       "    }\n",
       "</style>\n",
       "<table border=\"1\" class=\"dataframe\">\n",
       "  <thead>\n",
       "    <tr style=\"text-align: right;\">\n",
       "      <th></th>\n",
       "      <th>prob_a1_text</th>\n",
       "      <th>prob_a2_text</th>\n",
       "      <th>prob_a3_text</th>\n",
       "      <th>prob_a4_text</th>\n",
       "    </tr>\n",
       "  </thead>\n",
       "  <tbody>\n",
       "    <tr>\n",
       "      <th>0</th>\n",
       "      <td>1.547452e-16</td>\n",
       "      <td>3.860911e-14</td>\n",
       "      <td>2.367612e-11</td>\n",
       "      <td>1.000000e+00</td>\n",
       "    </tr>\n",
       "    <tr>\n",
       "      <th>1</th>\n",
       "      <td>1.619165e-12</td>\n",
       "      <td>9.987982e-01</td>\n",
       "      <td>1.201775e-03</td>\n",
       "      <td>6.391336e-17</td>\n",
       "    </tr>\n",
       "    <tr>\n",
       "      <th>2</th>\n",
       "      <td>2.103917e-10</td>\n",
       "      <td>1.000000e+00</td>\n",
       "      <td>7.551554e-10</td>\n",
       "      <td>1.297536e-20</td>\n",
       "    </tr>\n",
       "    <tr>\n",
       "      <th>3</th>\n",
       "      <td>5.822838e-08</td>\n",
       "      <td>9.999999e-01</td>\n",
       "      <td>2.117442e-10</td>\n",
       "      <td>2.030222e-31</td>\n",
       "    </tr>\n",
       "    <tr>\n",
       "      <th>4</th>\n",
       "      <td>4.785920e-23</td>\n",
       "      <td>2.458324e-20</td>\n",
       "      <td>1.000000e+00</td>\n",
       "      <td>8.319503e-16</td>\n",
       "    </tr>\n",
       "    <tr>\n",
       "      <th>...</th>\n",
       "      <td>...</td>\n",
       "      <td>...</td>\n",
       "      <td>...</td>\n",
       "      <td>...</td>\n",
       "    </tr>\n",
       "    <tr>\n",
       "      <th>1635</th>\n",
       "      <td>5.427987e-13</td>\n",
       "      <td>4.606460e-11</td>\n",
       "      <td>5.652438e-03</td>\n",
       "      <td>9.943476e-01</td>\n",
       "    </tr>\n",
       "    <tr>\n",
       "      <th>1636</th>\n",
       "      <td>2.932374e-16</td>\n",
       "      <td>1.353322e-22</td>\n",
       "      <td>1.000000e+00</td>\n",
       "      <td>1.467223e-25</td>\n",
       "    </tr>\n",
       "    <tr>\n",
       "      <th>1637</th>\n",
       "      <td>1.531034e-08</td>\n",
       "      <td>9.678659e-01</td>\n",
       "      <td>3.213412e-02</td>\n",
       "      <td>3.635375e-17</td>\n",
       "    </tr>\n",
       "    <tr>\n",
       "      <th>1638</th>\n",
       "      <td>6.779350e-71</td>\n",
       "      <td>1.000000e+00</td>\n",
       "      <td>1.447011e-91</td>\n",
       "      <td>4.506537e-79</td>\n",
       "    </tr>\n",
       "    <tr>\n",
       "      <th>1639</th>\n",
       "      <td>6.642400e-11</td>\n",
       "      <td>1.541447e-12</td>\n",
       "      <td>9.968952e-01</td>\n",
       "      <td>3.104805e-03</td>\n",
       "    </tr>\n",
       "  </tbody>\n",
       "</table>\n",
       "<p>1640 rows × 4 columns</p>\n",
       "</div>"
      ],
      "text/plain": [
       "      prob_a1_text  prob_a2_text  prob_a3_text  prob_a4_text\n",
       "0     1.547452e-16  3.860911e-14  2.367612e-11  1.000000e+00\n",
       "1     1.619165e-12  9.987982e-01  1.201775e-03  6.391336e-17\n",
       "2     2.103917e-10  1.000000e+00  7.551554e-10  1.297536e-20\n",
       "3     5.822838e-08  9.999999e-01  2.117442e-10  2.030222e-31\n",
       "4     4.785920e-23  2.458324e-20  1.000000e+00  8.319503e-16\n",
       "...            ...           ...           ...           ...\n",
       "1635  5.427987e-13  4.606460e-11  5.652438e-03  9.943476e-01\n",
       "1636  2.932374e-16  1.353322e-22  1.000000e+00  1.467223e-25\n",
       "1637  1.531034e-08  9.678659e-01  3.213412e-02  3.635375e-17\n",
       "1638  6.779350e-71  1.000000e+00  1.447011e-91  4.506537e-79\n",
       "1639  6.642400e-11  1.541447e-12  9.968952e-01  3.104805e-03\n",
       "\n",
       "[1640 rows x 4 columns]"
      ]
     },
     "execution_count": 40,
     "metadata": {},
     "output_type": "execute_result"
    }
   ],
   "source": [
    "prob_text = pd.DataFrame(text_clf.predict_proba(X_test_text), columns=['prob_a1_text', 'prob_a2_text',\n",
    "                                                                            'prob_a3_text', 'prob_a4_text'])\n",
    "prob_text"
   ]
  },
  {
   "cell_type": "markdown",
   "id": "b6a4dbfe-802c-4a30-9469-5719acac2175",
   "metadata": {},
   "source": [
    "### POS Tag"
   ]
  },
  {
   "cell_type": "code",
   "execution_count": 41,
   "id": "57d90873-83b5-4506-b0fa-362c22acd080",
   "metadata": {},
   "outputs": [
    {
     "data": {
      "text/html": [
       "<div>\n",
       "<style scoped>\n",
       "    .dataframe tbody tr th:only-of-type {\n",
       "        vertical-align: middle;\n",
       "    }\n",
       "\n",
       "    .dataframe tbody tr th {\n",
       "        vertical-align: top;\n",
       "    }\n",
       "\n",
       "    .dataframe thead th {\n",
       "        text-align: right;\n",
       "    }\n",
       "</style>\n",
       "<table border=\"1\" class=\"dataframe\">\n",
       "  <thead>\n",
       "    <tr style=\"text-align: right;\">\n",
       "      <th></th>\n",
       "      <th>prob_a1_pos</th>\n",
       "      <th>prob_a2_pos</th>\n",
       "      <th>prob_a3_pos</th>\n",
       "      <th>prob_a4_pos</th>\n",
       "    </tr>\n",
       "  </thead>\n",
       "  <tbody>\n",
       "    <tr>\n",
       "      <th>0</th>\n",
       "      <td>9.224691e-05</td>\n",
       "      <td>9.448652e-01</td>\n",
       "      <td>0.013776</td>\n",
       "      <td>4.126625e-02</td>\n",
       "    </tr>\n",
       "    <tr>\n",
       "      <th>1</th>\n",
       "      <td>1.866104e-04</td>\n",
       "      <td>9.673340e-01</td>\n",
       "      <td>0.030964</td>\n",
       "      <td>1.514991e-03</td>\n",
       "    </tr>\n",
       "    <tr>\n",
       "      <th>2</th>\n",
       "      <td>1.996809e-01</td>\n",
       "      <td>7.597827e-01</td>\n",
       "      <td>0.028646</td>\n",
       "      <td>1.189061e-02</td>\n",
       "    </tr>\n",
       "    <tr>\n",
       "      <th>3</th>\n",
       "      <td>4.362385e-01</td>\n",
       "      <td>3.830372e-01</td>\n",
       "      <td>0.119277</td>\n",
       "      <td>6.144734e-02</td>\n",
       "    </tr>\n",
       "    <tr>\n",
       "      <th>4</th>\n",
       "      <td>5.485831e-05</td>\n",
       "      <td>2.269873e-01</td>\n",
       "      <td>0.741502</td>\n",
       "      <td>3.145613e-02</td>\n",
       "    </tr>\n",
       "    <tr>\n",
       "      <th>...</th>\n",
       "      <td>...</td>\n",
       "      <td>...</td>\n",
       "      <td>...</td>\n",
       "      <td>...</td>\n",
       "    </tr>\n",
       "    <tr>\n",
       "      <th>1635</th>\n",
       "      <td>3.490724e-13</td>\n",
       "      <td>2.855282e-10</td>\n",
       "      <td>1.000000</td>\n",
       "      <td>2.161844e-11</td>\n",
       "    </tr>\n",
       "    <tr>\n",
       "      <th>1636</th>\n",
       "      <td>7.863372e-04</td>\n",
       "      <td>2.446871e-01</td>\n",
       "      <td>0.753730</td>\n",
       "      <td>7.964272e-04</td>\n",
       "    </tr>\n",
       "    <tr>\n",
       "      <th>1637</th>\n",
       "      <td>9.976641e-01</td>\n",
       "      <td>3.701784e-04</td>\n",
       "      <td>0.001860</td>\n",
       "      <td>1.057503e-04</td>\n",
       "    </tr>\n",
       "    <tr>\n",
       "      <th>1638</th>\n",
       "      <td>3.466418e-02</td>\n",
       "      <td>9.647918e-01</td>\n",
       "      <td>0.000537</td>\n",
       "      <td>6.672336e-06</td>\n",
       "    </tr>\n",
       "    <tr>\n",
       "      <th>1639</th>\n",
       "      <td>3.908048e-06</td>\n",
       "      <td>1.567493e-05</td>\n",
       "      <td>0.000094</td>\n",
       "      <td>9.998861e-01</td>\n",
       "    </tr>\n",
       "  </tbody>\n",
       "</table>\n",
       "<p>1640 rows × 4 columns</p>\n",
       "</div>"
      ],
      "text/plain": [
       "       prob_a1_pos   prob_a2_pos  prob_a3_pos   prob_a4_pos\n",
       "0     9.224691e-05  9.448652e-01     0.013776  4.126625e-02\n",
       "1     1.866104e-04  9.673340e-01     0.030964  1.514991e-03\n",
       "2     1.996809e-01  7.597827e-01     0.028646  1.189061e-02\n",
       "3     4.362385e-01  3.830372e-01     0.119277  6.144734e-02\n",
       "4     5.485831e-05  2.269873e-01     0.741502  3.145613e-02\n",
       "...            ...           ...          ...           ...\n",
       "1635  3.490724e-13  2.855282e-10     1.000000  2.161844e-11\n",
       "1636  7.863372e-04  2.446871e-01     0.753730  7.964272e-04\n",
       "1637  9.976641e-01  3.701784e-04     0.001860  1.057503e-04\n",
       "1638  3.466418e-02  9.647918e-01     0.000537  6.672336e-06\n",
       "1639  3.908048e-06  1.567493e-05     0.000094  9.998861e-01\n",
       "\n",
       "[1640 rows x 4 columns]"
      ]
     },
     "execution_count": 41,
     "metadata": {},
     "output_type": "execute_result"
    }
   ],
   "source": [
    "prob_pos = pd.DataFrame(pos_clf.predict_proba(X_test_pos), columns=['prob_a1_pos', 'prob_a2_pos',\n",
    "                                                                            'prob_a3_pos', 'prob_a4_pos'])\n",
    "prob_pos"
   ]
  },
  {
   "cell_type": "markdown",
   "id": "80ad7f13-7398-4f95-ad31-312fe0bcd494",
   "metadata": {},
   "source": [
    "## Criação do metaclassificador"
   ]
  },
  {
   "cell_type": "code",
   "execution_count": 52,
   "id": "a63403cc-4a52-4344-b2bf-570e6435a43a",
   "metadata": {},
   "outputs": [
    {
     "data": {
      "text/html": [
       "<div>\n",
       "<style scoped>\n",
       "    .dataframe tbody tr th:only-of-type {\n",
       "        vertical-align: middle;\n",
       "    }\n",
       "\n",
       "    .dataframe tbody tr th {\n",
       "        vertical-align: top;\n",
       "    }\n",
       "\n",
       "    .dataframe thead th {\n",
       "        text-align: right;\n",
       "    }\n",
       "</style>\n",
       "<table border=\"1\" class=\"dataframe\">\n",
       "  <thead>\n",
       "    <tr style=\"text-align: right;\">\n",
       "      <th></th>\n",
       "      <th>prob_a1_pa</th>\n",
       "      <th>prob_a2_pa</th>\n",
       "      <th>prob_a3_pa</th>\n",
       "      <th>prob_a4_pa</th>\n",
       "      <th>prob_a1_text</th>\n",
       "      <th>prob_a2_text</th>\n",
       "      <th>prob_a3_text</th>\n",
       "      <th>prob_a4_text</th>\n",
       "      <th>prob_a1_pos</th>\n",
       "      <th>prob_a2_pos</th>\n",
       "      <th>prob_a3_pos</th>\n",
       "      <th>prob_a4_pos</th>\n",
       "      <th>age</th>\n",
       "    </tr>\n",
       "  </thead>\n",
       "  <tbody>\n",
       "    <tr>\n",
       "      <th>0</th>\n",
       "      <td>0.225170</td>\n",
       "      <td>0.199543</td>\n",
       "      <td>0.189623</td>\n",
       "      <td>0.385664</td>\n",
       "      <td>1.547452e-16</td>\n",
       "      <td>3.860911e-14</td>\n",
       "      <td>2.367612e-11</td>\n",
       "      <td>1.000000e+00</td>\n",
       "      <td>0.000092</td>\n",
       "      <td>0.944865</td>\n",
       "      <td>0.013776</td>\n",
       "      <td>0.041266</td>\n",
       "      <td>2.0</td>\n",
       "    </tr>\n",
       "    <tr>\n",
       "      <th>1</th>\n",
       "      <td>0.003323</td>\n",
       "      <td>0.995923</td>\n",
       "      <td>0.000753</td>\n",
       "      <td>0.000001</td>\n",
       "      <td>1.619165e-12</td>\n",
       "      <td>9.987982e-01</td>\n",
       "      <td>1.201775e-03</td>\n",
       "      <td>6.391336e-17</td>\n",
       "      <td>0.000187</td>\n",
       "      <td>0.967334</td>\n",
       "      <td>0.030964</td>\n",
       "      <td>0.001515</td>\n",
       "      <td>3.0</td>\n",
       "    </tr>\n",
       "    <tr>\n",
       "      <th>2</th>\n",
       "      <td>0.144237</td>\n",
       "      <td>0.143186</td>\n",
       "      <td>0.187604</td>\n",
       "      <td>0.524972</td>\n",
       "      <td>2.103917e-10</td>\n",
       "      <td>1.000000e+00</td>\n",
       "      <td>7.551554e-10</td>\n",
       "      <td>1.297536e-20</td>\n",
       "      <td>0.199681</td>\n",
       "      <td>0.759783</td>\n",
       "      <td>0.028646</td>\n",
       "      <td>0.011891</td>\n",
       "      <td>2.0</td>\n",
       "    </tr>\n",
       "    <tr>\n",
       "      <th>3</th>\n",
       "      <td>0.101635</td>\n",
       "      <td>0.852693</td>\n",
       "      <td>0.039000</td>\n",
       "      <td>0.006672</td>\n",
       "      <td>5.822838e-08</td>\n",
       "      <td>9.999999e-01</td>\n",
       "      <td>2.117442e-10</td>\n",
       "      <td>2.030222e-31</td>\n",
       "      <td>0.436238</td>\n",
       "      <td>0.383037</td>\n",
       "      <td>0.119277</td>\n",
       "      <td>0.061447</td>\n",
       "      <td>2.0</td>\n",
       "    </tr>\n",
       "    <tr>\n",
       "      <th>4</th>\n",
       "      <td>0.757237</td>\n",
       "      <td>0.009545</td>\n",
       "      <td>0.228532</td>\n",
       "      <td>0.004687</td>\n",
       "      <td>4.785920e-23</td>\n",
       "      <td>2.458324e-20</td>\n",
       "      <td>1.000000e+00</td>\n",
       "      <td>8.319503e-16</td>\n",
       "      <td>0.000055</td>\n",
       "      <td>0.226987</td>\n",
       "      <td>0.741502</td>\n",
       "      <td>0.031456</td>\n",
       "      <td>1.0</td>\n",
       "    </tr>\n",
       "  </tbody>\n",
       "</table>\n",
       "</div>"
      ],
      "text/plain": [
       "   prob_a1_pa  prob_a2_pa  prob_a3_pa  prob_a4_pa  prob_a1_text  prob_a2_text  \\\n",
       "0    0.225170    0.199543    0.189623    0.385664  1.547452e-16  3.860911e-14   \n",
       "1    0.003323    0.995923    0.000753    0.000001  1.619165e-12  9.987982e-01   \n",
       "2    0.144237    0.143186    0.187604    0.524972  2.103917e-10  1.000000e+00   \n",
       "3    0.101635    0.852693    0.039000    0.006672  5.822838e-08  9.999999e-01   \n",
       "4    0.757237    0.009545    0.228532    0.004687  4.785920e-23  2.458324e-20   \n",
       "\n",
       "   prob_a3_text  prob_a4_text  prob_a1_pos  prob_a2_pos  prob_a3_pos  \\\n",
       "0  2.367612e-11  1.000000e+00     0.000092     0.944865     0.013776   \n",
       "1  1.201775e-03  6.391336e-17     0.000187     0.967334     0.030964   \n",
       "2  7.551554e-10  1.297536e-20     0.199681     0.759783     0.028646   \n",
       "3  2.117442e-10  2.030222e-31     0.436238     0.383037     0.119277   \n",
       "4  1.000000e+00  8.319503e-16     0.000055     0.226987     0.741502   \n",
       "\n",
       "   prob_a4_pos  age  \n",
       "0     0.041266  2.0  \n",
       "1     0.001515  3.0  \n",
       "2     0.011891  2.0  \n",
       "3     0.061447  2.0  \n",
       "4     0.031456  1.0  "
      ]
     },
     "execution_count": 52,
     "metadata": {},
     "output_type": "execute_result"
    }
   ],
   "source": [
    "meta_clf_data = pd.concat([prob_pa, prob_text, prob_pos], axis=1)\n",
    "\n",
    "meta_clf_data['age'] = pd.DataFrame(y_test).reset_index(drop=True)\n",
    "\n",
    "meta_clf_data.head()"
   ]
  },
  {
   "cell_type": "code",
   "execution_count": 45,
   "id": "d1461448-7aa4-44a3-b7e8-d17447de163f",
   "metadata": {},
   "outputs": [],
   "source": [
    "X_meta = meta_clf_data.drop(['age'], axis=1)\n",
    "y_meta = meta_clf_data['age']"
   ]
  },
  {
   "cell_type": "code",
   "execution_count": 60,
   "id": "b9dc35da-99ea-4bb1-b664-6047c33f8b8e",
   "metadata": {},
   "outputs": [
    {
     "data": {
      "text/plain": [
       "0.524390243902439"
      ]
     },
     "execution_count": 60,
     "metadata": {},
     "output_type": "execute_result"
    }
   ],
   "source": [
    "# Dividindo o conjunto de dados em treino e teste\n",
    "X_train_meta, X_test_meta, y_train, y_test = train_test_split(X_meta, y_meta, test_size=0.2, random_state=42)\n",
    "\n",
    "# Criando um modelo de Regressão Logística\n",
    "meta_clf = LogisticRegression(random_state=42)\n",
    "\n",
    "# Treinando o modelo\n",
    "meta_clf.fit(X_train_meta, y_train)\n",
    "\n",
    "# Fazendo previsões no conjunto de teste\n",
    "previsoes = meta_clf.predict(X_test_meta)\n",
    "\n",
    "# Avaliando a precisão do modelo\n",
    "acuracia = accuracy_score(y_test, previsoes)\n",
    "acuracia"
   ]
  },
  {
   "cell_type": "code",
   "execution_count": 67,
   "id": "f6e89d72-0b2d-45d3-9931-c84086c7587f",
   "metadata": {},
   "outputs": [
    {
     "name": "stdout",
     "output_type": "stream",
     "text": [
      "              precision    recall  f1-score   support\n",
      "\n",
      "           0       0.64      0.34      0.44        62\n",
      "           1       0.53      0.51      0.52        73\n",
      "           2       0.45      0.65      0.53       108\n",
      "           3       0.63      0.52      0.57        85\n",
      "\n",
      "    accuracy                           0.52       328\n",
      "   macro avg       0.56      0.50      0.51       328\n",
      "weighted avg       0.55      0.52      0.52       328\n",
      "\n"
     ]
    }
   ],
   "source": [
    "print(classification_report(y_test, previsoes))"
   ]
  }
 ],
 "metadata": {
  "kernelspec": {
   "display_name": "Python 3 (ipykernel)",
   "language": "python",
   "name": "python3"
  },
  "language_info": {
   "codemirror_mode": {
    "name": "ipython",
    "version": 3
   },
   "file_extension": ".py",
   "mimetype": "text/x-python",
   "name": "python",
   "nbconvert_exporter": "python",
   "pygments_lexer": "ipython3",
   "version": "3.9.13"
  }
 },
 "nbformat": 4,
 "nbformat_minor": 5
}
